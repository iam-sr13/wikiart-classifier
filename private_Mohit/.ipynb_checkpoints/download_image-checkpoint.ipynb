{
 "cells": [
  {
   "cell_type": "code",
   "execution_count": 26,
   "metadata": {},
   "outputs": [],
   "source": [
    "import requests\n",
    "from bs4 import BeautifulSoup"
   ]
  },
  {
   "cell_type": "code",
   "execution_count": 27,
   "metadata": {},
   "outputs": [],
   "source": [
    "#finds the  html address\n",
    "\n",
    "def image_html_fn(url):\n",
    "    \"\"\"\n",
    "    input: url of Wikiart page, which has a single image\n",
    "    output: web url of the source image\n",
    "    \"\"\"\n",
    "    page_trial_wikiart = requests.get(url)\n",
    "\n",
    "    page_trial_wikiart_html = BeautifulSoup(page_trial_wikiart.content, 'html.parser')\n",
    "    search_image_line=page_trial_wikiart_html.find_all(class_='ms-zoom-cursor') \n",
    "    str_list=str(search_image_line[0])\n",
    "\n",
    "    #used this class because all (?) the webpages seem to have a property that when you take your mouse it zooms in. \n",
    "    #This is how I am trying to find source image\n",
    "    #print(search_image_line)\n",
    "\n",
    "    temp_var=[]\n",
    "    for i in range(len(str_list)):\n",
    "    ##searches for the word \"src\" and then copies the address after the word \"src\"    \n",
    "        j=0\n",
    "        #if str_list[i:i+1]\n",
    "        if str_list[i:i+3]==\"src\":\n",
    "            start_index=str_list.find('\\\"',i+3)\n",
    "            #print(start_index)\n",
    "            end_index=str_list.find('\\\"', start_index+1)\n",
    "            #print(end_index)\n",
    "            for j in range(start_index+1, end_index):\n",
    "                temp_var.append(str_list[j])\n",
    "            #print(temp_var)\n",
    "    return ''.join(temp_var)"
   ]
  },
  {
   "cell_type": "code",
   "execution_count": 30,
   "metadata": {},
   "outputs": [],
   "source": [
    "def image_save_as_file_fn(url_image, file_name):\n",
    "    \"\"\"\n",
    "    input: web url of jpg kind of image\n",
    "    output: a file saved on local computer\n",
    "    \"\"\"\n",
    "    \n",
    "    response = requests.get(url_image)\n",
    "    if response.status_code == 200:\n",
    "        with open(file_name, 'wb') as f:\n",
    "            f.write(response.content)"
   ]
  },
  {
   "cell_type": "code",
   "execution_count": 31,
   "metadata": {},
   "outputs": [],
   "source": [
    "#Chose a random page\n",
    "url = \"https://www.wikiart.org/en/francesco-clemente/the-four-corners-1985\"\n",
    "url_image=image_html_fn(url)\n",
    "file_name='sample.jpg'\n",
    "image_save_as_file(url_image, file_name)"
   ]
  },
  {
   "cell_type": "code",
   "execution_count": null,
   "metadata": {},
   "outputs": [],
   "source": []
  }
 ],
 "metadata": {
  "kernelspec": {
   "display_name": "Python 3",
   "language": "python",
   "name": "python3"
  },
  "language_info": {
   "codemirror_mode": {
    "name": "ipython",
    "version": 3
   },
   "file_extension": ".py",
   "mimetype": "text/x-python",
   "name": "python",
   "nbconvert_exporter": "python",
   "pygments_lexer": "ipython3",
   "version": "3.6.5"
  }
 },
 "nbformat": 4,
 "nbformat_minor": 2
}
