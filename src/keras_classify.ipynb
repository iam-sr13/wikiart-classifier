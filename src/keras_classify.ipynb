{
 "cells": [
  {
   "cell_type": "markdown",
   "metadata": {},
   "source": [
    "# Classification using Keras"
   ]
  },
  {
   "cell_type": "markdown",
   "metadata": {},
   "source": [
    "The target values must be in a column of the dataframe, and must be a numerical datatype, so we must convert them before training.\n",
    "\n",
    "IMPORTANT: Notice that we are importing `ImageDataGenerator` from `keras_preprocessing` instead of `keras.preprocessing`, because the people at Keras are a bunch of old reactionary dinosaurs.\n",
    "\n",
    "See the discussion [here](https://medium.com/@vijayabhaskar96/tutorial-on-keras-imagedatagenerator-with-flow-from-dataframe-8bd5776e45c1), and [here](https://medium.com/@vijayabhaskar96/tutorial-on-keras-imagedatagenerator-with-flow-from-dataframe-8bd5776e45c1)."
   ]
  },
  {
   "cell_type": "code",
   "execution_count": 27,
   "metadata": {
    "cell_style": "center",
    "scrolled": true
   },
   "outputs": [],
   "source": [
    "from keras.models import Sequential\n",
    "from keras_preprocessing.image import ImageDataGenerator\n",
    "from keras.layers import Dense, Activation, Flatten, Dropout, BatchNormalization\n",
    "from keras.layers import Conv2D, MaxPooling2D\n",
    "from keras import regularizers, optimizers\n",
    "from sklearn.model_selection import train_test_split\n",
    "\n",
    "import pandas as pd\n",
    "import numpy as np"
   ]
  },
  {
   "cell_type": "markdown",
   "metadata": {},
   "source": [
    "## Load data and preparation"
   ]
  },
  {
   "cell_type": "markdown",
   "metadata": {},
   "source": [
    "The csv files `db.csv` contains all the metadata we have extracted from wikiart: every entry corresponds to an artwork, and the `_id` column contains the filename of the image in the `data/images/` directory associated to that artwork."
   ]
  },
  {
   "cell_type": "code",
   "execution_count": 143,
   "metadata": {
    "cell_style": "center"
   },
   "outputs": [],
   "source": [
    "nrows = 5000\n",
    "df = pd.read_csv(\"../data/db.csv\",nrows=nrows,na_values=\"?\")"
   ]
  },
  {
   "cell_type": "markdown",
   "metadata": {},
   "source": [
    "Train/test split the database:"
   ]
  },
  {
   "cell_type": "code",
   "execution_count": 144,
   "metadata": {},
   "outputs": [],
   "source": [
    "df_train, df_test = train_test_split(df, \n",
    "                                     test_size=0.1,\n",
    "                                     shuffle=True)"
   ]
  },
  {
   "cell_type": "code",
   "execution_count": 145,
   "metadata": {
    "scrolled": false
   },
   "outputs": [
    {
     "data": {
      "text/html": [
       "<div>\n",
       "<style scoped>\n",
       "    .dataframe tbody tr th:only-of-type {\n",
       "        vertical-align: middle;\n",
       "    }\n",
       "\n",
       "    .dataframe tbody tr th {\n",
       "        vertical-align: top;\n",
       "    }\n",
       "\n",
       "    .dataframe thead th {\n",
       "        text-align: right;\n",
       "    }\n",
       "</style>\n",
       "<table border=\"1\" class=\"dataframe\">\n",
       "  <thead>\n",
       "    <tr style=\"text-align: right;\">\n",
       "      <th></th>\n",
       "      <th>_id</th>\n",
       "      <th>artistname</th>\n",
       "      <th>genre</th>\n",
       "      <th>image</th>\n",
       "      <th>image_size_data</th>\n",
       "      <th>style</th>\n",
       "      <th>title</th>\n",
       "      <th>year</th>\n",
       "    </tr>\n",
       "  </thead>\n",
       "  <tbody>\n",
       "    <tr>\n",
       "      <th>1222</th>\n",
       "      <td>57727194edc2cb3880c22e6f</td>\n",
       "      <td>camille pissarro</td>\n",
       "      <td>landscape</td>\n",
       "      <td>https://uploads7.wikiart.org/images/camille-pi...</td>\n",
       "      <td>[{'sizekb': 9, 'width': 210, 'height': 176, 'u...</td>\n",
       "      <td>impressionism</td>\n",
       "      <td>fields</td>\n",
       "      <td>1877</td>\n",
       "    </tr>\n",
       "    <tr>\n",
       "      <th>4691</th>\n",
       "      <td>57727fc0edc2cb3880eed7e6</td>\n",
       "      <td>mykola pymonenko</td>\n",
       "      <td>genre painting</td>\n",
       "      <td>https://uploads5.wikiart.org/images/mykola-pym...</td>\n",
       "      <td>[{'sizekb': 14, 'width': 210, 'height': 264, '...</td>\n",
       "      <td>realism</td>\n",
       "      <td>laundry</td>\n",
       "      <td>NaN</td>\n",
       "    </tr>\n",
       "    <tr>\n",
       "      <th>4584</th>\n",
       "      <td>57727f8bedc2cb3880ee2bee</td>\n",
       "      <td>mykola pymonenko</td>\n",
       "      <td>genre painting</td>\n",
       "      <td>https://uploads3.wikiart.org/images/mykola-pym...</td>\n",
       "      <td>[{'sizekb': 11, 'width': 210, 'height': 317, '...</td>\n",
       "      <td>realism</td>\n",
       "      <td>conversation</td>\n",
       "      <td>1912</td>\n",
       "    </tr>\n",
       "    <tr>\n",
       "      <th>797</th>\n",
       "      <td>577272e7edc2cb3880c6bb4c</td>\n",
       "      <td>niko pirosmani</td>\n",
       "      <td>genre painting</td>\n",
       "      <td>https://uploads6.wikiart.org/images/niko-piros...</td>\n",
       "      <td>[{'sizekb': 8, 'width': 210, 'height': 211, 'u...</td>\n",
       "      <td>naïve art (primitivism)</td>\n",
       "      <td>tatar - camel driver</td>\n",
       "      <td>NaN</td>\n",
       "    </tr>\n",
       "    <tr>\n",
       "      <th>4709</th>\n",
       "      <td>57727720edc2cb3880d3c21f</td>\n",
       "      <td>qi baishi</td>\n",
       "      <td>animal painting</td>\n",
       "      <td>https://uploads6.wikiart.org/images/qi-baishi/...</td>\n",
       "      <td>[{'sizekb': 9, 'width': 210, 'height': 175, 'u...</td>\n",
       "      <td>ink and wash painting</td>\n",
       "      <td>shrimp</td>\n",
       "      <td>NaN</td>\n",
       "    </tr>\n",
       "  </tbody>\n",
       "</table>\n",
       "</div>"
      ],
      "text/plain": [
       "                           _id        artistname            genre  \\\n",
       "1222  57727194edc2cb3880c22e6f  camille pissarro        landscape   \n",
       "4691  57727fc0edc2cb3880eed7e6  mykola pymonenko   genre painting   \n",
       "4584  57727f8bedc2cb3880ee2bee  mykola pymonenko   genre painting   \n",
       "797   577272e7edc2cb3880c6bb4c    niko pirosmani   genre painting   \n",
       "4709  57727720edc2cb3880d3c21f         qi baishi  animal painting   \n",
       "\n",
       "                                                  image  \\\n",
       "1222  https://uploads7.wikiart.org/images/camille-pi...   \n",
       "4691  https://uploads5.wikiart.org/images/mykola-pym...   \n",
       "4584  https://uploads3.wikiart.org/images/mykola-pym...   \n",
       "797   https://uploads6.wikiart.org/images/niko-piros...   \n",
       "4709  https://uploads6.wikiart.org/images/qi-baishi/...   \n",
       "\n",
       "                                        image_size_data  \\\n",
       "1222  [{'sizekb': 9, 'width': 210, 'height': 176, 'u...   \n",
       "4691  [{'sizekb': 14, 'width': 210, 'height': 264, '...   \n",
       "4584  [{'sizekb': 11, 'width': 210, 'height': 317, '...   \n",
       "797   [{'sizekb': 8, 'width': 210, 'height': 211, 'u...   \n",
       "4709  [{'sizekb': 9, 'width': 210, 'height': 175, 'u...   \n",
       "\n",
       "                        style                 title  year  \n",
       "1222            impressionism                fields  1877  \n",
       "4691                  realism               laundry   NaN  \n",
       "4584                  realism          conversation  1912  \n",
       "797   naïve art (primitivism)  tatar - camel driver   NaN  \n",
       "4709    ink and wash painting                shrimp   NaN  "
      ]
     },
     "execution_count": 145,
     "metadata": {},
     "output_type": "execute_result"
    }
   ],
   "source": [
    "df_train.head()"
   ]
  },
  {
   "cell_type": "markdown",
   "metadata": {},
   "source": [
    "Let's initialize a dataimage generator: it is a nice interface towards many (pre)processing method in Keras, including some utilities for data augmentation."
   ]
  },
  {
   "cell_type": "markdown",
   "metadata": {},
   "source": [
    "We will use the amazing `flow_from_dataframe` function to serve the data we need.\n",
    "\n",
    "If the files do not have an extension, run this in a shell:\n",
    "\n",
    "    $ for f in *; do mv \"$f\" \"$f.jpg\"; done"
   ]
  },
  {
   "cell_type": "markdown",
   "metadata": {},
   "source": [
    "### Classes"
   ]
  },
  {
   "cell_type": "markdown",
   "metadata": {},
   "source": [
    "Decide here what feature we want to predict, and save in the `classes` set all the possible values: they are the values that appear at least once in the database."
   ]
  },
  {
   "cell_type": "code",
   "execution_count": 183,
   "metadata": {},
   "outputs": [],
   "source": [
    "feature = \"style\""
   ]
  },
  {
   "cell_type": "code",
   "execution_count": 187,
   "metadata": {
    "scrolled": true
   },
   "outputs": [],
   "source": [
    "classes = set(df[feature])"
   ]
  },
  {
   "cell_type": "markdown",
   "metadata": {},
   "source": [
    "The number of classes will be needed later, the NN must know what's the output dimension."
   ]
  },
  {
   "cell_type": "code",
   "execution_count": 188,
   "metadata": {},
   "outputs": [],
   "source": [
    "nclass = len(classes)"
   ]
  },
  {
   "cell_type": "code",
   "execution_count": 189,
   "metadata": {
    "scrolled": true
   },
   "outputs": [
    {
     "data": {
      "text/plain": [
       "{'abstract art',\n",
       " 'abstract art,abstract expressionism',\n",
       " 'abstract expressionism',\n",
       " 'abstract expressionism,action painting',\n",
       " 'academicism',\n",
       " 'action painting',\n",
       " 'art brut',\n",
       " 'art informel',\n",
       " 'art informel,automatic painting',\n",
       " 'art informel,expressionism',\n",
       " 'art informel,minimalism',\n",
       " 'art informel,surrealism',\n",
       " 'art nouveau (modern)',\n",
       " 'art nouveau (modern),impressionism',\n",
       " 'art singulier',\n",
       " 'baroque',\n",
       " 'classicism',\n",
       " 'color field painting',\n",
       " 'conceptual art',\n",
       " 'conceptual art,environmental (land) art',\n",
       " 'conceptual art,minimalism',\n",
       " 'conceptual art,pop art',\n",
       " 'concretism',\n",
       " 'constructivism',\n",
       " 'contemporary realism',\n",
       " 'cubism',\n",
       " 'cubism,expressionism',\n",
       " 'cubism,futurism',\n",
       " 'cubism,surrealism',\n",
       " 'dada',\n",
       " 'early renaissance',\n",
       " 'early renaissance,international gothic',\n",
       " 'environmental (land) art',\n",
       " 'expressionism',\n",
       " 'expressionism,muralism',\n",
       " 'expressionism,pop art',\n",
       " 'expressionism,social realism',\n",
       " 'futurism',\n",
       " 'gongbi',\n",
       " 'hard edge painting',\n",
       " 'hard edge painting,neoplasticism',\n",
       " 'impressionism',\n",
       " 'impressionism,realism',\n",
       " 'ink and wash painting',\n",
       " 'international gothic',\n",
       " 'luminism',\n",
       " 'mannerism (late renaissance)',\n",
       " 'minimalism',\n",
       " 'modernismo',\n",
       " 'muralism,social realism',\n",
       " nan,\n",
       " 'naïve art (primitivism)',\n",
       " 'naïve art (primitivism),pop art',\n",
       " 'naïve art (primitivism),post-impressionism',\n",
       " 'neo-expressionism',\n",
       " 'neo-pop art',\n",
       " 'neoclassicism',\n",
       " 'neoplasticism',\n",
       " 'new european painting',\n",
       " 'northern renaissance',\n",
       " 'op art',\n",
       " 'photorealism',\n",
       " 'pointillism',\n",
       " 'pop art',\n",
       " 'pop art,naïve art (primitivism)',\n",
       " 'post-impressionism',\n",
       " 'post-minimalism',\n",
       " 'realism',\n",
       " 'realism,romanticism',\n",
       " 'rococo',\n",
       " 'romanticism',\n",
       " 'romanticism,academicism',\n",
       " 'social realism',\n",
       " 'socialist realism',\n",
       " 'street art',\n",
       " 'suprematism',\n",
       " 'surrealism',\n",
       " 'symbolism',\n",
       " 'tachisme',\n",
       " 'tenebrism'}"
      ]
     },
     "execution_count": 189,
     "metadata": {},
     "output_type": "execute_result"
    }
   ],
   "source": [
    "classes"
   ]
  },
  {
   "cell_type": "markdown",
   "metadata": {},
   "source": [
    "### Image Size"
   ]
  },
  {
   "cell_type": "markdown",
   "metadata": {},
   "source": [
    "The images will be scaled down to this size"
   ]
  },
  {
   "cell_type": "code",
   "execution_count": 190,
   "metadata": {},
   "outputs": [],
   "source": [
    "img_size = (32,32)"
   ]
  },
  {
   "cell_type": "markdown",
   "metadata": {},
   "source": [
    "## Create data generators"
   ]
  },
  {
   "cell_type": "code",
   "execution_count": 193,
   "metadata": {},
   "outputs": [],
   "source": [
    "datagen = ImageDataGenerator(rescale=1/255,validation_split=0.2)"
   ]
  },
  {
   "cell_type": "code",
   "execution_count": 194,
   "metadata": {},
   "outputs": [
    {
     "name": "stdout",
     "output_type": "stream",
     "text": [
      "Found 4500 images belonging to 80 classes.\n"
     ]
    }
   ],
   "source": [
    "train_generator = datagen.flow_from_dataframe(\n",
    "                                df_train,\n",
    "                                directory=\"../data/images/\",\n",
    "                                x_col=\"_id\",\n",
    "                                has_ext=False,\n",
    "                                target_size=img_size,\n",
    "                                y_col=feature,\n",
    "                                batch_size=32,\n",
    "                                classes = classes)"
   ]
  },
  {
   "cell_type": "code",
   "execution_count": 195,
   "metadata": {},
   "outputs": [
    {
     "name": "stdout",
     "output_type": "stream",
     "text": [
      "Found 500 images belonging to 80 classes.\n"
     ]
    }
   ],
   "source": [
    "test_generator = datagen.flow_from_dataframe(\n",
    "                                df_test,\n",
    "                                directory=\"../data/images/\",\n",
    "                                x_col=\"_id\",\n",
    "                                has_ext=False,\n",
    "                                target_size=img_size,\n",
    "                                y_col=feature,\n",
    "                                batch_size=20,\n",
    "                                shuffle=False,\n",
    "                                classes=classes) "
   ]
  },
  {
   "cell_type": "markdown",
   "metadata": {},
   "source": [
    "# Model Architecture"
   ]
  },
  {
   "cell_type": "markdown",
   "metadata": {},
   "source": [
    "We'll start with the most basic architecture imaginable. \n",
    "\n",
    "It would be nice to use transfer learning."
   ]
  },
  {
   "cell_type": "code",
   "execution_count": 196,
   "metadata": {},
   "outputs": [],
   "source": [
    "model = Sequential()\n",
    "\n",
    "model.add(Conv2D(32, (3, 3), padding='same',\n",
    "                 input_shape=(*img_size,3)))\n",
    "model.add(Activation('relu'))\n",
    "model.add(Conv2D(32, (3, 3)))\n",
    "model.add(Activation('relu'))\n",
    "model.add(MaxPooling2D(pool_size=(2, 2)))\n",
    "model.add(Dropout(0.25))\n",
    "\n",
    "model.add(Conv2D(64, (3, 3), padding='same'))\n",
    "model.add(Activation('relu'))\n",
    "model.add(Conv2D(64, (3, 3)))\n",
    "model.add(Activation('relu'))\n",
    "model.add(MaxPooling2D(pool_size=(2, 2)))\n",
    "model.add(Dropout(0.25))\n",
    "\n",
    "model.add(Flatten())\n",
    "model.add(Dense(512))\n",
    "model.add(Activation('relu'))\n",
    "model.add(Dropout(0.5))\n",
    "model.add(Dense(nclass, activation='softmax'))"
   ]
  },
  {
   "cell_type": "markdown",
   "metadata": {},
   "source": [
    "Pick an optimizer and compile the model"
   ]
  },
  {
   "cell_type": "code",
   "execution_count": 197,
   "metadata": {},
   "outputs": [],
   "source": [
    "model.compile(\n",
    "    optimizers.rmsprop(lr=0.0001, \n",
    "                       decay=1e-6),\n",
    "    loss=\"categorical_crossentropy\",\n",
    "    metrics=[\"accuracy\"])"
   ]
  },
  {
   "cell_type": "markdown",
   "metadata": {},
   "source": [
    "# Training"
   ]
  },
  {
   "cell_type": "code",
   "execution_count": 198,
   "metadata": {
    "scrolled": true
   },
   "outputs": [
    {
     "name": "stdout",
     "output_type": "stream",
     "text": [
      "Epoch 1/2\n",
      "141/141 [==============================] - 49s 350ms/step - loss: 3.3666 - acc: 0.1953\n",
      "Epoch 2/2\n",
      "141/141 [==============================] - 46s 327ms/step - loss: 3.0616 - acc: 0.2853\n"
     ]
    },
    {
     "data": {
      "text/plain": [
       "<keras.callbacks.History at 0x7f744a456a58>"
      ]
     },
     "execution_count": 198,
     "metadata": {},
     "output_type": "execute_result"
    }
   ],
   "source": [
    "model.fit_generator(generator=train_generator,\n",
    "                    epochs=2)"
   ]
  },
  {
   "cell_type": "markdown",
   "metadata": {},
   "source": [
    "# Evaluation\n",
    "\n",
    "This returns the loss and accuracy"
   ]
  },
  {
   "cell_type": "code",
   "execution_count": 201,
   "metadata": {},
   "outputs": [
    {
     "data": {
      "text/plain": [
       "[2.975468864440918, 0.3299999988079071]"
      ]
     },
     "execution_count": 201,
     "metadata": {},
     "output_type": "execute_result"
    }
   ],
   "source": [
    "model.evaluate_generator(generator=test_generator)"
   ]
  },
  {
   "cell_type": "code",
   "execution_count": null,
   "metadata": {},
   "outputs": [],
   "source": []
  }
 ],
 "metadata": {
  "kernelspec": {
   "display_name": "science",
   "language": "python",
   "name": "science"
  },
  "language_info": {
   "codemirror_mode": {
    "name": "ipython",
    "version": 3
   },
   "file_extension": ".py",
   "mimetype": "text/x-python",
   "name": "python",
   "nbconvert_exporter": "python",
   "pygments_lexer": "ipython3",
   "version": "3.6.7"
  },
  "toc": {
   "base_numbering": 1,
   "nav_menu": {},
   "number_sections": true,
   "sideBar": true,
   "skip_h1_title": false,
   "title_cell": "Table of Contents",
   "title_sidebar": "Contents",
   "toc_cell": false,
   "toc_position": {},
   "toc_section_display": true,
   "toc_window_display": false
  },
  "varInspector": {
   "cols": {
    "lenName": 16,
    "lenType": 16,
    "lenVar": 40
   },
   "kernels_config": {
    "python": {
     "delete_cmd_postfix": "",
     "delete_cmd_prefix": "del ",
     "library": "var_list.py",
     "varRefreshCmd": "print(var_dic_list())"
    },
    "r": {
     "delete_cmd_postfix": ") ",
     "delete_cmd_prefix": "rm(",
     "library": "var_list.r",
     "varRefreshCmd": "cat(var_dic_list()) "
    }
   },
   "types_to_exclude": [
    "module",
    "function",
    "builtin_function_or_method",
    "instance",
    "_Feature"
   ],
   "window_display": false
  }
 },
 "nbformat": 4,
 "nbformat_minor": 2
}
