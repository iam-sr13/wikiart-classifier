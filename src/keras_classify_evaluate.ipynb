{
 "cells": [
  {
   "cell_type": "markdown",
   "metadata": {},
   "source": [
    "The target values must be in a column of the dataframe, and must be a numerical datatype, so we must convert them before training.\n",
    "\n",
    "IMPORTANT: Notice that we are importing `ImageDataGenerator` from `keras_preprocessing` instead of `keras.preprocessing`, because the people at Keras are a bunch of old reactionary dinosaurs.\n",
    "\n",
    "See the discussion [here](https://medium.com/@vijayabhaskar96/tutorial-on-keras-imagedatagenerator-with-flow-from-dataframe-8bd5776e45c1), and [here](https://medium.com/@vijayabhaskar96/tutorial-on-keras-imagedatagenerator-with-flow-from-dataframe-8bd5776e45c1)."
   ]
  },
  {
   "cell_type": "code",
   "execution_count": 1,
   "metadata": {
    "cell_style": "center",
    "scrolled": true
   },
   "outputs": [
    {
     "name": "stderr",
     "output_type": "stream",
     "text": [
      "Using TensorFlow backend.\n"
     ]
    }
   ],
   "source": [
    "from keras_preprocessing.image import ImageDataGenerator\n",
    "from keras.models import load_model\n",
    "import pickle\n",
    "\n",
    "import pandas as pd\n",
    "import numpy as np\n",
    "import matplotlib.pyplot as plt"
   ]
  },
  {
   "cell_type": "markdown",
   "metadata": {},
   "source": [
    "# Load data and preparation"
   ]
  },
  {
   "cell_type": "markdown",
   "metadata": {},
   "source": [
    "The csv files `db.csv` contains all the metadata we have extracted from wikiart: every entry corresponds to an artwork, and the `_id` column contains the filename of the image in the `data/images/` directory associated to that artwork."
   ]
  },
  {
   "cell_type": "code",
   "execution_count": 106,
   "metadata": {},
   "outputs": [],
   "source": [
    "feature = \"genre\""
   ]
  },
  {
   "cell_type": "code",
   "execution_count": 107,
   "metadata": {
    "cell_style": "center"
   },
   "outputs": [],
   "source": [
    "nrows = None # to load all \n",
    "df = pd.read_csv(\"../data/db.csv\",nrows=nrows,na_values=\"?\")"
   ]
  },
  {
   "cell_type": "markdown",
   "metadata": {},
   "source": [
    "Let's look at this dataframe:"
   ]
  },
  {
   "cell_type": "code",
   "execution_count": 108,
   "metadata": {},
   "outputs": [],
   "source": [
    "df.dropna(subset=[feature,],inplace=True)\n",
    "df[feature] = df[feature].map(lambda s: str(s).split(\",\")[0].strip())"
   ]
  },
  {
   "cell_type": "code",
   "execution_count": 109,
   "metadata": {},
   "outputs": [
    {
     "data": {
      "text/html": [
       "<div>\n",
       "<style scoped>\n",
       "    .dataframe tbody tr th:only-of-type {\n",
       "        vertical-align: middle;\n",
       "    }\n",
       "\n",
       "    .dataframe tbody tr th {\n",
       "        vertical-align: top;\n",
       "    }\n",
       "\n",
       "    .dataframe thead th {\n",
       "        text-align: right;\n",
       "    }\n",
       "</style>\n",
       "<table border=\"1\" class=\"dataframe\">\n",
       "  <thead>\n",
       "    <tr style=\"text-align: right;\">\n",
       "      <th></th>\n",
       "      <th>_id</th>\n",
       "      <th>artistname</th>\n",
       "      <th>genre</th>\n",
       "      <th>image</th>\n",
       "      <th>image_size_data</th>\n",
       "      <th>style</th>\n",
       "      <th>title</th>\n",
       "      <th>year</th>\n",
       "    </tr>\n",
       "  </thead>\n",
       "  <tbody>\n",
       "    <tr>\n",
       "      <th>0</th>\n",
       "      <td>57727b22edc2cb3880e0d820</td>\n",
       "      <td>giovanni battista piranesi</td>\n",
       "      <td>design</td>\n",
       "      <td>https://uploads1.wikiart.org/images/giovanni-b...</td>\n",
       "      <td>[{'sizekb': 13, 'width': 210, 'height': 266, '...</td>\n",
       "      <td>neoclassicism</td>\n",
       "      <td>plan, elevation and details of doric temples i...</td>\n",
       "      <td>NaN</td>\n",
       "    </tr>\n",
       "    <tr>\n",
       "      <th>1</th>\n",
       "      <td>57727b22edc2cb3880e0d830</td>\n",
       "      <td>giovanni battista piranesi</td>\n",
       "      <td>design</td>\n",
       "      <td>https://uploads0.wikiart.org/images/giovanni-b...</td>\n",
       "      <td>[{'sizekb': 8, 'width': 210, 'height': 149, 'u...</td>\n",
       "      <td>neoclassicism</td>\n",
       "      <td>plans of elevations and sections of thermopolium</td>\n",
       "      <td>NaN</td>\n",
       "    </tr>\n",
       "    <tr>\n",
       "      <th>2</th>\n",
       "      <td>57727b22edc2cb3880e0d840</td>\n",
       "      <td>giovanni battista piranesi</td>\n",
       "      <td>design</td>\n",
       "      <td>https://uploads3.wikiart.org/images/giovanni-b...</td>\n",
       "      <td>[{'sizekb': 7, 'width': 210, 'height': 148, 'u...</td>\n",
       "      <td>neoclassicism</td>\n",
       "      <td>plants related to the houses opposite to that ...</td>\n",
       "      <td>NaN</td>\n",
       "    </tr>\n",
       "    <tr>\n",
       "      <th>3</th>\n",
       "      <td>57727b22edc2cb3880e0d850</td>\n",
       "      <td>giovanni battista piranesi</td>\n",
       "      <td>sketch and study</td>\n",
       "      <td>https://uploads2.wikiart.org/images/giovanni-b...</td>\n",
       "      <td>[{'sizekb': 6, 'width': 210, 'height': 161, 'u...</td>\n",
       "      <td>neoclassicism</td>\n",
       "      <td>pluto</td>\n",
       "      <td>NaN</td>\n",
       "    </tr>\n",
       "    <tr>\n",
       "      <th>4</th>\n",
       "      <td>57727b23edc2cb3880e0d860</td>\n",
       "      <td>giovanni battista piranesi</td>\n",
       "      <td>sketch and study</td>\n",
       "      <td>https://uploads8.wikiart.org/images/giovanni-b...</td>\n",
       "      <td>[{'sizekb': 10, 'width': 210, 'height': 296, '...</td>\n",
       "      <td>neoclassicism</td>\n",
       "      <td>pluto and proserpina</td>\n",
       "      <td>NaN</td>\n",
       "    </tr>\n",
       "  </tbody>\n",
       "</table>\n",
       "</div>"
      ],
      "text/plain": [
       "                        _id                  artistname             genre  \\\n",
       "0  57727b22edc2cb3880e0d820  giovanni battista piranesi            design   \n",
       "1  57727b22edc2cb3880e0d830  giovanni battista piranesi            design   \n",
       "2  57727b22edc2cb3880e0d840  giovanni battista piranesi            design   \n",
       "3  57727b22edc2cb3880e0d850  giovanni battista piranesi  sketch and study   \n",
       "4  57727b23edc2cb3880e0d860  giovanni battista piranesi  sketch and study   \n",
       "\n",
       "                                               image  \\\n",
       "0  https://uploads1.wikiart.org/images/giovanni-b...   \n",
       "1  https://uploads0.wikiart.org/images/giovanni-b...   \n",
       "2  https://uploads3.wikiart.org/images/giovanni-b...   \n",
       "3  https://uploads2.wikiart.org/images/giovanni-b...   \n",
       "4  https://uploads8.wikiart.org/images/giovanni-b...   \n",
       "\n",
       "                                     image_size_data          style  \\\n",
       "0  [{'sizekb': 13, 'width': 210, 'height': 266, '...  neoclassicism   \n",
       "1  [{'sizekb': 8, 'width': 210, 'height': 149, 'u...  neoclassicism   \n",
       "2  [{'sizekb': 7, 'width': 210, 'height': 148, 'u...  neoclassicism   \n",
       "3  [{'sizekb': 6, 'width': 210, 'height': 161, 'u...  neoclassicism   \n",
       "4  [{'sizekb': 10, 'width': 210, 'height': 296, '...  neoclassicism   \n",
       "\n",
       "                                               title year  \n",
       "0  plan, elevation and details of doric temples i...  NaN  \n",
       "1   plans of elevations and sections of thermopolium  NaN  \n",
       "2  plants related to the houses opposite to that ...  NaN  \n",
       "3                                              pluto  NaN  \n",
       "4                               pluto and proserpina  NaN  "
      ]
     },
     "execution_count": 109,
     "metadata": {},
     "output_type": "execute_result"
    }
   ],
   "source": [
    "df.head()"
   ]
  },
  {
   "cell_type": "markdown",
   "metadata": {},
   "source": [
    "Let's initialize a dataimage generator: it is a nice interface towards many (pre)processing method in Keras, including some utilities for data augmentation."
   ]
  },
  {
   "cell_type": "markdown",
   "metadata": {},
   "source": [
    "We will use the amazing `flow_from_dataframe` function to serve the data we need.\n",
    "\n",
    "If the files do not have an extension, run this in a shell:\n",
    "\n",
    "    $ for f in *; do mv \"$f\" \"$f.jpg\"; done"
   ]
  },
  {
   "cell_type": "code",
   "execution_count": 110,
   "metadata": {},
   "outputs": [
    {
     "data": {
      "text/plain": [
       "0                     design\n",
       "1                     design\n",
       "2                     design\n",
       "3           sketch and study\n",
       "4           sketch and study\n",
       "5                     veduta\n",
       "6                   interior\n",
       "7                   portrait\n",
       "8                   portrait\n",
       "9                   portrait\n",
       "10            genre painting\n",
       "11                    design\n",
       "12                    design\n",
       "13                    design\n",
       "14          sketch and study\n",
       "15                 cityscape\n",
       "16                    design\n",
       "17                 cityscape\n",
       "18                    design\n",
       "19                    design\n",
       "20                  interior\n",
       "21          sketch and study\n",
       "22            genre painting\n",
       "23                 cityscape\n",
       "24          sketch and study\n",
       "25        religious painting\n",
       "26                 capriccio\n",
       "27                    design\n",
       "28                    design\n",
       "29            genre painting\n",
       "                 ...        \n",
       "151984                marina\n",
       "151985             landscape\n",
       "151986                marina\n",
       "151987                marina\n",
       "151988             landscape\n",
       "151989             landscape\n",
       "151990             landscape\n",
       "151991                marina\n",
       "151992             landscape\n",
       "151993             landscape\n",
       "151994             landscape\n",
       "151995       battle painting\n",
       "151996             landscape\n",
       "151997                marina\n",
       "151998             landscape\n",
       "151999             landscape\n",
       "152000                marina\n",
       "152001     symbolic painting\n",
       "152002             landscape\n",
       "152003             landscape\n",
       "152004             landscape\n",
       "152005             cityscape\n",
       "152006             landscape\n",
       "152007             landscape\n",
       "152008             landscape\n",
       "152009             landscape\n",
       "152010             landscape\n",
       "152011                marina\n",
       "152012                marina\n",
       "152013              portrait\n",
       "Name: genre, Length: 149142, dtype: object"
      ]
     },
     "execution_count": 110,
     "metadata": {},
     "output_type": "execute_result"
    }
   ],
   "source": [
    "df[feature]"
   ]
  },
  {
   "cell_type": "code",
   "execution_count": 111,
   "metadata": {},
   "outputs": [
    {
     "data": {
      "text/html": [
       "<div>\n",
       "<style scoped>\n",
       "    .dataframe tbody tr th:only-of-type {\n",
       "        vertical-align: middle;\n",
       "    }\n",
       "\n",
       "    .dataframe tbody tr th {\n",
       "        vertical-align: top;\n",
       "    }\n",
       "\n",
       "    .dataframe thead th {\n",
       "        text-align: right;\n",
       "    }\n",
       "</style>\n",
       "<table border=\"1\" class=\"dataframe\">\n",
       "  <thead>\n",
       "    <tr style=\"text-align: right;\">\n",
       "      <th></th>\n",
       "      <th>_id</th>\n",
       "      <th>artistname</th>\n",
       "      <th>genre</th>\n",
       "      <th>image</th>\n",
       "      <th>image_size_data</th>\n",
       "      <th>style</th>\n",
       "      <th>title</th>\n",
       "      <th>year</th>\n",
       "    </tr>\n",
       "  </thead>\n",
       "  <tbody>\n",
       "    <tr>\n",
       "      <th>count</th>\n",
       "      <td>149142</td>\n",
       "      <td>149142</td>\n",
       "      <td>149142</td>\n",
       "      <td>149142</td>\n",
       "      <td>149142</td>\n",
       "      <td>147296</td>\n",
       "      <td>149140</td>\n",
       "      <td>116648</td>\n",
       "    </tr>\n",
       "    <tr>\n",
       "      <th>unique</th>\n",
       "      <td>149142</td>\n",
       "      <td>2792</td>\n",
       "      <td>58</td>\n",
       "      <td>149142</td>\n",
       "      <td>149142</td>\n",
       "      <td>904</td>\n",
       "      <td>113273</td>\n",
       "      <td>2670</td>\n",
       "    </tr>\n",
       "    <tr>\n",
       "      <th>top</th>\n",
       "      <td>57726f58edc2cb3880ba7563</td>\n",
       "      <td>vincent van gogh</td>\n",
       "      <td>portrait</td>\n",
       "      <td>https://uploads4.wikiart.org/images/paul-cezan...</td>\n",
       "      <td>[{'sizekb': 4, 'width': 210, 'height': 163, 'u...</td>\n",
       "      <td>impressionism</td>\n",
       "      <td>untitled</td>\n",
       "      <td>1910</td>\n",
       "    </tr>\n",
       "    <tr>\n",
       "      <th>freq</th>\n",
       "      <td>1</td>\n",
       "      <td>1927</td>\n",
       "      <td>21743</td>\n",
       "      <td>1</td>\n",
       "      <td>1</td>\n",
       "      <td>14614</td>\n",
       "      <td>4322</td>\n",
       "      <td>1291</td>\n",
       "    </tr>\n",
       "  </tbody>\n",
       "</table>\n",
       "</div>"
      ],
      "text/plain": [
       "                             _id        artistname     genre  \\\n",
       "count                     149142            149142    149142   \n",
       "unique                    149142              2792        58   \n",
       "top     57726f58edc2cb3880ba7563  vincent van gogh  portrait   \n",
       "freq                           1              1927     21743   \n",
       "\n",
       "                                                    image  \\\n",
       "count                                              149142   \n",
       "unique                                             149142   \n",
       "top     https://uploads4.wikiart.org/images/paul-cezan...   \n",
       "freq                                                    1   \n",
       "\n",
       "                                          image_size_data          style  \\\n",
       "count                                              149142         147296   \n",
       "unique                                             149142            904   \n",
       "top     [{'sizekb': 4, 'width': 210, 'height': 163, 'u...  impressionism   \n",
       "freq                                                    1          14614   \n",
       "\n",
       "           title    year  \n",
       "count     149140  116648  \n",
       "unique    113273    2670  \n",
       "top     untitled    1910  \n",
       "freq        4322    1291  "
      ]
     },
     "execution_count": 111,
     "metadata": {},
     "output_type": "execute_result"
    }
   ],
   "source": [
    "df.describe()"
   ]
  },
  {
   "cell_type": "code",
   "execution_count": 112,
   "metadata": {},
   "outputs": [
    {
     "data": {
      "text/plain": [
       "count       58.000000\n",
       "mean      2571.413793\n",
       "std       4918.314360\n",
       "min          1.000000\n",
       "25%         39.250000\n",
       "50%        360.000000\n",
       "75%       2351.250000\n",
       "max      21743.000000\n",
       "Name: genre, dtype: float64"
      ]
     },
     "execution_count": 112,
     "metadata": {},
     "output_type": "execute_result"
    }
   ],
   "source": [
    "df[feature].value_counts().describe()"
   ]
  },
  {
   "cell_type": "markdown",
   "metadata": {},
   "source": [
    "Count for each class:"
   ]
  },
  {
   "cell_type": "code",
   "execution_count": 209,
   "metadata": {
    "scrolled": false
   },
   "outputs": [
    {
     "data": {
      "text/html": [
       "<div>\n",
       "<style scoped>\n",
       "    .dataframe tbody tr th:only-of-type {\n",
       "        vertical-align: middle;\n",
       "    }\n",
       "\n",
       "    .dataframe tbody tr th {\n",
       "        vertical-align: top;\n",
       "    }\n",
       "\n",
       "    .dataframe thead th {\n",
       "        text-align: right;\n",
       "    }\n",
       "</style>\n",
       "<table border=\"1\" class=\"dataframe\">\n",
       "  <thead>\n",
       "    <tr style=\"text-align: right;\">\n",
       "      <th></th>\n",
       "      <th>_id</th>\n",
       "      <th>artistname</th>\n",
       "      <th>image</th>\n",
       "      <th>image_size_data</th>\n",
       "      <th>style</th>\n",
       "      <th>title</th>\n",
       "      <th>year</th>\n",
       "    </tr>\n",
       "    <tr>\n",
       "      <th>genre</th>\n",
       "      <th></th>\n",
       "      <th></th>\n",
       "      <th></th>\n",
       "      <th></th>\n",
       "      <th></th>\n",
       "      <th></th>\n",
       "      <th></th>\n",
       "    </tr>\n",
       "  </thead>\n",
       "  <tbody>\n",
       "    <tr>\n",
       "      <th>abstract</th>\n",
       "      <td>15927</td>\n",
       "      <td>15927</td>\n",
       "      <td>15927</td>\n",
       "      <td>15927</td>\n",
       "      <td>15781</td>\n",
       "      <td>15927</td>\n",
       "      <td>13936</td>\n",
       "    </tr>\n",
       "    <tr>\n",
       "      <th>advertisement</th>\n",
       "      <td>146</td>\n",
       "      <td>146</td>\n",
       "      <td>146</td>\n",
       "      <td>146</td>\n",
       "      <td>146</td>\n",
       "      <td>146</td>\n",
       "      <td>119</td>\n",
       "    </tr>\n",
       "    <tr>\n",
       "      <th>allegorical painting</th>\n",
       "      <td>1190</td>\n",
       "      <td>1190</td>\n",
       "      <td>1190</td>\n",
       "      <td>1190</td>\n",
       "      <td>1188</td>\n",
       "      <td>1190</td>\n",
       "      <td>975</td>\n",
       "    </tr>\n",
       "    <tr>\n",
       "      <th>animal painting</th>\n",
       "      <td>2193</td>\n",
       "      <td>2193</td>\n",
       "      <td>2193</td>\n",
       "      <td>2193</td>\n",
       "      <td>2169</td>\n",
       "      <td>2193</td>\n",
       "      <td>1438</td>\n",
       "    </tr>\n",
       "    <tr>\n",
       "      <th>animation</th>\n",
       "      <td>11</td>\n",
       "      <td>11</td>\n",
       "      <td>11</td>\n",
       "      <td>11</td>\n",
       "      <td>1</td>\n",
       "      <td>11</td>\n",
       "      <td>1</td>\n",
       "    </tr>\n",
       "    <tr>\n",
       "      <th>architecture</th>\n",
       "      <td>24</td>\n",
       "      <td>24</td>\n",
       "      <td>24</td>\n",
       "      <td>24</td>\n",
       "      <td>18</td>\n",
       "      <td>24</td>\n",
       "      <td>24</td>\n",
       "    </tr>\n",
       "    <tr>\n",
       "      <th>artist's book</th>\n",
       "      <td>9</td>\n",
       "      <td>9</td>\n",
       "      <td>9</td>\n",
       "      <td>9</td>\n",
       "      <td>5</td>\n",
       "      <td>9</td>\n",
       "      <td>9</td>\n",
       "    </tr>\n",
       "    <tr>\n",
       "      <th>battle painting</th>\n",
       "      <td>470</td>\n",
       "      <td>470</td>\n",
       "      <td>470</td>\n",
       "      <td>470</td>\n",
       "      <td>467</td>\n",
       "      <td>470</td>\n",
       "      <td>328</td>\n",
       "    </tr>\n",
       "    <tr>\n",
       "      <th>bijinga</th>\n",
       "      <td>113</td>\n",
       "      <td>113</td>\n",
       "      <td>113</td>\n",
       "      <td>113</td>\n",
       "      <td>112</td>\n",
       "      <td>113</td>\n",
       "      <td>74</td>\n",
       "    </tr>\n",
       "    <tr>\n",
       "      <th>bird-and-flower painting</th>\n",
       "      <td>125</td>\n",
       "      <td>125</td>\n",
       "      <td>125</td>\n",
       "      <td>125</td>\n",
       "      <td>124</td>\n",
       "      <td>125</td>\n",
       "      <td>51</td>\n",
       "    </tr>\n",
       "    <tr>\n",
       "      <th>calligraphy</th>\n",
       "      <td>241</td>\n",
       "      <td>241</td>\n",
       "      <td>241</td>\n",
       "      <td>241</td>\n",
       "      <td>236</td>\n",
       "      <td>241</td>\n",
       "      <td>32</td>\n",
       "    </tr>\n",
       "    <tr>\n",
       "      <th>capriccio</th>\n",
       "      <td>151</td>\n",
       "      <td>151</td>\n",
       "      <td>151</td>\n",
       "      <td>151</td>\n",
       "      <td>151</td>\n",
       "      <td>151</td>\n",
       "      <td>94</td>\n",
       "    </tr>\n",
       "    <tr>\n",
       "      <th>caricature</th>\n",
       "      <td>603</td>\n",
       "      <td>603</td>\n",
       "      <td>603</td>\n",
       "      <td>603</td>\n",
       "      <td>603</td>\n",
       "      <td>603</td>\n",
       "      <td>442</td>\n",
       "    </tr>\n",
       "    <tr>\n",
       "      <th>cityscape</th>\n",
       "      <td>7199</td>\n",
       "      <td>7199</td>\n",
       "      <td>7199</td>\n",
       "      <td>7199</td>\n",
       "      <td>7165</td>\n",
       "      <td>7199</td>\n",
       "      <td>5181</td>\n",
       "    </tr>\n",
       "    <tr>\n",
       "      <th>cloudscape</th>\n",
       "      <td>305</td>\n",
       "      <td>305</td>\n",
       "      <td>305</td>\n",
       "      <td>305</td>\n",
       "      <td>304</td>\n",
       "      <td>305</td>\n",
       "      <td>241</td>\n",
       "    </tr>\n",
       "    <tr>\n",
       "      <th>design</th>\n",
       "      <td>3238</td>\n",
       "      <td>3238</td>\n",
       "      <td>3238</td>\n",
       "      <td>3238</td>\n",
       "      <td>3231</td>\n",
       "      <td>3238</td>\n",
       "      <td>1818</td>\n",
       "    </tr>\n",
       "    <tr>\n",
       "      <th>figurative</th>\n",
       "      <td>5494</td>\n",
       "      <td>5494</td>\n",
       "      <td>5494</td>\n",
       "      <td>5494</td>\n",
       "      <td>5406</td>\n",
       "      <td>5494</td>\n",
       "      <td>4564</td>\n",
       "    </tr>\n",
       "    <tr>\n",
       "      <th>flower painting</th>\n",
       "      <td>2152</td>\n",
       "      <td>2152</td>\n",
       "      <td>2152</td>\n",
       "      <td>2152</td>\n",
       "      <td>2121</td>\n",
       "      <td>2152</td>\n",
       "      <td>1628</td>\n",
       "    </tr>\n",
       "    <tr>\n",
       "      <th>genre painting</th>\n",
       "      <td>18217</td>\n",
       "      <td>18217</td>\n",
       "      <td>18217</td>\n",
       "      <td>18217</td>\n",
       "      <td>18065</td>\n",
       "      <td>18217</td>\n",
       "      <td>14224</td>\n",
       "    </tr>\n",
       "    <tr>\n",
       "      <th>graffiti</th>\n",
       "      <td>237</td>\n",
       "      <td>237</td>\n",
       "      <td>237</td>\n",
       "      <td>237</td>\n",
       "      <td>237</td>\n",
       "      <td>237</td>\n",
       "      <td>116</td>\n",
       "    </tr>\n",
       "    <tr>\n",
       "      <th>history painting</th>\n",
       "      <td>1134</td>\n",
       "      <td>1134</td>\n",
       "      <td>1134</td>\n",
       "      <td>1134</td>\n",
       "      <td>1119</td>\n",
       "      <td>1134</td>\n",
       "      <td>917</td>\n",
       "    </tr>\n",
       "    <tr>\n",
       "      <th>illustration</th>\n",
       "      <td>4739</td>\n",
       "      <td>4739</td>\n",
       "      <td>4739</td>\n",
       "      <td>4739</td>\n",
       "      <td>4705</td>\n",
       "      <td>4739</td>\n",
       "      <td>2611</td>\n",
       "    </tr>\n",
       "    <tr>\n",
       "      <th>installation</th>\n",
       "      <td>1923</td>\n",
       "      <td>1923</td>\n",
       "      <td>1923</td>\n",
       "      <td>1923</td>\n",
       "      <td>1918</td>\n",
       "      <td>1923</td>\n",
       "      <td>1765</td>\n",
       "    </tr>\n",
       "    <tr>\n",
       "      <th>interior</th>\n",
       "      <td>1023</td>\n",
       "      <td>1023</td>\n",
       "      <td>1023</td>\n",
       "      <td>1023</td>\n",
       "      <td>1007</td>\n",
       "      <td>1023</td>\n",
       "      <td>769</td>\n",
       "    </tr>\n",
       "    <tr>\n",
       "      <th>jewelry</th>\n",
       "      <td>14</td>\n",
       "      <td>14</td>\n",
       "      <td>14</td>\n",
       "      <td>14</td>\n",
       "      <td>14</td>\n",
       "      <td>14</td>\n",
       "      <td>14</td>\n",
       "    </tr>\n",
       "    <tr>\n",
       "      <th>landscape</th>\n",
       "      <td>19582</td>\n",
       "      <td>19582</td>\n",
       "      <td>19582</td>\n",
       "      <td>19582</td>\n",
       "      <td>19435</td>\n",
       "      <td>19581</td>\n",
       "      <td>15401</td>\n",
       "    </tr>\n",
       "    <tr>\n",
       "      <th>literary painting</th>\n",
       "      <td>739</td>\n",
       "      <td>739</td>\n",
       "      <td>739</td>\n",
       "      <td>739</td>\n",
       "      <td>737</td>\n",
       "      <td>739</td>\n",
       "      <td>579</td>\n",
       "    </tr>\n",
       "    <tr>\n",
       "      <th>marina</th>\n",
       "      <td>2353</td>\n",
       "      <td>2353</td>\n",
       "      <td>2353</td>\n",
       "      <td>2353</td>\n",
       "      <td>2349</td>\n",
       "      <td>2353</td>\n",
       "      <td>1667</td>\n",
       "    </tr>\n",
       "    <tr>\n",
       "      <th>miniature</th>\n",
       "      <td>358</td>\n",
       "      <td>358</td>\n",
       "      <td>358</td>\n",
       "      <td>358</td>\n",
       "      <td>351</td>\n",
       "      <td>358</td>\n",
       "      <td>168</td>\n",
       "    </tr>\n",
       "    <tr>\n",
       "      <th>mobile</th>\n",
       "      <td>9</td>\n",
       "      <td>9</td>\n",
       "      <td>9</td>\n",
       "      <td>9</td>\n",
       "      <td>9</td>\n",
       "      <td>9</td>\n",
       "      <td>9</td>\n",
       "    </tr>\n",
       "    <tr>\n",
       "      <th>mosaic</th>\n",
       "      <td>35</td>\n",
       "      <td>35</td>\n",
       "      <td>35</td>\n",
       "      <td>35</td>\n",
       "      <td>23</td>\n",
       "      <td>35</td>\n",
       "      <td>11</td>\n",
       "    </tr>\n",
       "    <tr>\n",
       "      <th>mural</th>\n",
       "      <td>12</td>\n",
       "      <td>12</td>\n",
       "      <td>12</td>\n",
       "      <td>12</td>\n",
       "      <td>11</td>\n",
       "      <td>12</td>\n",
       "      <td>12</td>\n",
       "    </tr>\n",
       "    <tr>\n",
       "      <th>mythological painting</th>\n",
       "      <td>2346</td>\n",
       "      <td>2346</td>\n",
       "      <td>2346</td>\n",
       "      <td>2346</td>\n",
       "      <td>2336</td>\n",
       "      <td>2346</td>\n",
       "      <td>1747</td>\n",
       "    </tr>\n",
       "    <tr>\n",
       "      <th>nude painting (nu)</th>\n",
       "      <td>3337</td>\n",
       "      <td>3337</td>\n",
       "      <td>3337</td>\n",
       "      <td>3337</td>\n",
       "      <td>3267</td>\n",
       "      <td>3337</td>\n",
       "      <td>2644</td>\n",
       "    </tr>\n",
       "    <tr>\n",
       "      <th>panorama</th>\n",
       "      <td>22</td>\n",
       "      <td>22</td>\n",
       "      <td>22</td>\n",
       "      <td>22</td>\n",
       "      <td>19</td>\n",
       "      <td>22</td>\n",
       "      <td>18</td>\n",
       "    </tr>\n",
       "    <tr>\n",
       "      <th>pastorale</th>\n",
       "      <td>101</td>\n",
       "      <td>101</td>\n",
       "      <td>101</td>\n",
       "      <td>101</td>\n",
       "      <td>101</td>\n",
       "      <td>101</td>\n",
       "      <td>82</td>\n",
       "    </tr>\n",
       "    <tr>\n",
       "      <th>performance</th>\n",
       "      <td>127</td>\n",
       "      <td>127</td>\n",
       "      <td>127</td>\n",
       "      <td>127</td>\n",
       "      <td>127</td>\n",
       "      <td>127</td>\n",
       "      <td>123</td>\n",
       "    </tr>\n",
       "    <tr>\n",
       "      <th>photo</th>\n",
       "      <td>1602</td>\n",
       "      <td>1602</td>\n",
       "      <td>1602</td>\n",
       "      <td>1602</td>\n",
       "      <td>1151</td>\n",
       "      <td>1602</td>\n",
       "      <td>1413</td>\n",
       "    </tr>\n",
       "    <tr>\n",
       "      <th>portrait</th>\n",
       "      <td>21743</td>\n",
       "      <td>21743</td>\n",
       "      <td>21743</td>\n",
       "      <td>21743</td>\n",
       "      <td>21518</td>\n",
       "      <td>21742</td>\n",
       "      <td>17537</td>\n",
       "    </tr>\n",
       "    <tr>\n",
       "      <th>poster</th>\n",
       "      <td>739</td>\n",
       "      <td>739</td>\n",
       "      <td>739</td>\n",
       "      <td>739</td>\n",
       "      <td>713</td>\n",
       "      <td>739</td>\n",
       "      <td>642</td>\n",
       "    </tr>\n",
       "    <tr>\n",
       "      <th>quadratura</th>\n",
       "      <td>24</td>\n",
       "      <td>24</td>\n",
       "      <td>24</td>\n",
       "      <td>24</td>\n",
       "      <td>24</td>\n",
       "      <td>24</td>\n",
       "      <td>23</td>\n",
       "    </tr>\n",
       "    <tr>\n",
       "      <th>religious painting</th>\n",
       "      <td>9152</td>\n",
       "      <td>9152</td>\n",
       "      <td>9152</td>\n",
       "      <td>9152</td>\n",
       "      <td>9095</td>\n",
       "      <td>9152</td>\n",
       "      <td>7843</td>\n",
       "    </tr>\n",
       "    <tr>\n",
       "      <th>sculpture</th>\n",
       "      <td>3104</td>\n",
       "      <td>3104</td>\n",
       "      <td>3104</td>\n",
       "      <td>3104</td>\n",
       "      <td>3048</td>\n",
       "      <td>3104</td>\n",
       "      <td>2663</td>\n",
       "    </tr>\n",
       "    <tr>\n",
       "      <th>self-portrait</th>\n",
       "      <td>2066</td>\n",
       "      <td>2066</td>\n",
       "      <td>2066</td>\n",
       "      <td>2066</td>\n",
       "      <td>2055</td>\n",
       "      <td>2066</td>\n",
       "      <td>1771</td>\n",
       "    </tr>\n",
       "    <tr>\n",
       "      <th>shan shui</th>\n",
       "      <td>37</td>\n",
       "      <td>37</td>\n",
       "      <td>37</td>\n",
       "      <td>37</td>\n",
       "      <td>35</td>\n",
       "      <td>37</td>\n",
       "      <td>11</td>\n",
       "    </tr>\n",
       "    <tr>\n",
       "      <th>sketch and study</th>\n",
       "      <td>5773</td>\n",
       "      <td>5773</td>\n",
       "      <td>5773</td>\n",
       "      <td>5773</td>\n",
       "      <td>5709</td>\n",
       "      <td>5773</td>\n",
       "      <td>4320</td>\n",
       "    </tr>\n",
       "    <tr>\n",
       "      <th>stabile</th>\n",
       "      <td>2</td>\n",
       "      <td>2</td>\n",
       "      <td>2</td>\n",
       "      <td>2</td>\n",
       "      <td>2</td>\n",
       "      <td>2</td>\n",
       "      <td>2</td>\n",
       "    </tr>\n",
       "    <tr>\n",
       "      <th>still life</th>\n",
       "      <td>4174</td>\n",
       "      <td>4174</td>\n",
       "      <td>4174</td>\n",
       "      <td>4174</td>\n",
       "      <td>4078</td>\n",
       "      <td>4174</td>\n",
       "      <td>3471</td>\n",
       "    </tr>\n",
       "    <tr>\n",
       "      <th>symbolic painting</th>\n",
       "      <td>3626</td>\n",
       "      <td>3626</td>\n",
       "      <td>3626</td>\n",
       "      <td>3626</td>\n",
       "      <td>3614</td>\n",
       "      <td>3626</td>\n",
       "      <td>2225</td>\n",
       "    </tr>\n",
       "    <tr>\n",
       "      <th>tapestry</th>\n",
       "      <td>39</td>\n",
       "      <td>39</td>\n",
       "      <td>39</td>\n",
       "      <td>39</td>\n",
       "      <td>37</td>\n",
       "      <td>39</td>\n",
       "      <td>39</td>\n",
       "    </tr>\n",
       "    <tr>\n",
       "      <th>tessellation</th>\n",
       "      <td>203</td>\n",
       "      <td>203</td>\n",
       "      <td>203</td>\n",
       "      <td>203</td>\n",
       "      <td>201</td>\n",
       "      <td>203</td>\n",
       "      <td>178</td>\n",
       "    </tr>\n",
       "    <tr>\n",
       "      <th>trompe-l'œil</th>\n",
       "      <td>4</td>\n",
       "      <td>4</td>\n",
       "      <td>4</td>\n",
       "      <td>4</td>\n",
       "      <td>4</td>\n",
       "      <td>4</td>\n",
       "      <td>4</td>\n",
       "    </tr>\n",
       "    <tr>\n",
       "      <th>urushi-e</th>\n",
       "      <td>1</td>\n",
       "      <td>1</td>\n",
       "      <td>1</td>\n",
       "      <td>1</td>\n",
       "      <td>1</td>\n",
       "      <td>1</td>\n",
       "      <td>0</td>\n",
       "    </tr>\n",
       "    <tr>\n",
       "      <th>vanitas</th>\n",
       "      <td>40</td>\n",
       "      <td>40</td>\n",
       "      <td>40</td>\n",
       "      <td>40</td>\n",
       "      <td>40</td>\n",
       "      <td>40</td>\n",
       "      <td>37</td>\n",
       "    </tr>\n",
       "    <tr>\n",
       "      <th>veduta</th>\n",
       "      <td>292</td>\n",
       "      <td>292</td>\n",
       "      <td>292</td>\n",
       "      <td>292</td>\n",
       "      <td>292</td>\n",
       "      <td>292</td>\n",
       "      <td>224</td>\n",
       "    </tr>\n",
       "    <tr>\n",
       "      <th>video</th>\n",
       "      <td>3</td>\n",
       "      <td>3</td>\n",
       "      <td>3</td>\n",
       "      <td>3</td>\n",
       "      <td>3</td>\n",
       "      <td>3</td>\n",
       "      <td>3</td>\n",
       "    </tr>\n",
       "    <tr>\n",
       "      <th>wildlife painting</th>\n",
       "      <td>362</td>\n",
       "      <td>362</td>\n",
       "      <td>362</td>\n",
       "      <td>362</td>\n",
       "      <td>361</td>\n",
       "      <td>362</td>\n",
       "      <td>167</td>\n",
       "    </tr>\n",
       "    <tr>\n",
       "      <th>yakusha-e</th>\n",
       "      <td>257</td>\n",
       "      <td>257</td>\n",
       "      <td>257</td>\n",
       "      <td>257</td>\n",
       "      <td>257</td>\n",
       "      <td>257</td>\n",
       "      <td>243</td>\n",
       "    </tr>\n",
       "  </tbody>\n",
       "</table>\n",
       "</div>"
      ],
      "text/plain": [
       "                            _id  artistname  image  image_size_data  style  \\\n",
       "genre                                                                        \n",
       "abstract                  15927       15927  15927            15927  15781   \n",
       "advertisement               146         146    146              146    146   \n",
       "allegorical painting       1190        1190   1190             1190   1188   \n",
       "animal painting            2193        2193   2193             2193   2169   \n",
       "animation                    11          11     11               11      1   \n",
       "architecture                 24          24     24               24     18   \n",
       "artist's book                 9           9      9                9      5   \n",
       "battle painting             470         470    470              470    467   \n",
       "bijinga                     113         113    113              113    112   \n",
       "bird-and-flower painting    125         125    125              125    124   \n",
       "calligraphy                 241         241    241              241    236   \n",
       "capriccio                   151         151    151              151    151   \n",
       "caricature                  603         603    603              603    603   \n",
       "cityscape                  7199        7199   7199             7199   7165   \n",
       "cloudscape                  305         305    305              305    304   \n",
       "design                     3238        3238   3238             3238   3231   \n",
       "figurative                 5494        5494   5494             5494   5406   \n",
       "flower painting            2152        2152   2152             2152   2121   \n",
       "genre painting            18217       18217  18217            18217  18065   \n",
       "graffiti                    237         237    237              237    237   \n",
       "history painting           1134        1134   1134             1134   1119   \n",
       "illustration               4739        4739   4739             4739   4705   \n",
       "installation               1923        1923   1923             1923   1918   \n",
       "interior                   1023        1023   1023             1023   1007   \n",
       "jewelry                      14          14     14               14     14   \n",
       "landscape                 19582       19582  19582            19582  19435   \n",
       "literary painting           739         739    739              739    737   \n",
       "marina                     2353        2353   2353             2353   2349   \n",
       "miniature                   358         358    358              358    351   \n",
       "mobile                        9           9      9                9      9   \n",
       "mosaic                       35          35     35               35     23   \n",
       "mural                        12          12     12               12     11   \n",
       "mythological painting      2346        2346   2346             2346   2336   \n",
       "nude painting (nu)         3337        3337   3337             3337   3267   \n",
       "panorama                     22          22     22               22     19   \n",
       "pastorale                   101         101    101              101    101   \n",
       "performance                 127         127    127              127    127   \n",
       "photo                      1602        1602   1602             1602   1151   \n",
       "portrait                  21743       21743  21743            21743  21518   \n",
       "poster                      739         739    739              739    713   \n",
       "quadratura                   24          24     24               24     24   \n",
       "religious painting         9152        9152   9152             9152   9095   \n",
       "sculpture                  3104        3104   3104             3104   3048   \n",
       "self-portrait              2066        2066   2066             2066   2055   \n",
       "shan shui                    37          37     37               37     35   \n",
       "sketch and study           5773        5773   5773             5773   5709   \n",
       "stabile                       2           2      2                2      2   \n",
       "still life                 4174        4174   4174             4174   4078   \n",
       "symbolic painting          3626        3626   3626             3626   3614   \n",
       "tapestry                     39          39     39               39     37   \n",
       "tessellation                203         203    203              203    201   \n",
       "trompe-l'œil                  4           4      4                4      4   \n",
       "urushi-e                      1           1      1                1      1   \n",
       "vanitas                      40          40     40               40     40   \n",
       "veduta                      292         292    292              292    292   \n",
       "video                         3           3      3                3      3   \n",
       "wildlife painting           362         362    362              362    361   \n",
       "yakusha-e                   257         257    257              257    257   \n",
       "\n",
       "                          title   year  \n",
       "genre                                   \n",
       "abstract                  15927  13936  \n",
       "advertisement               146    119  \n",
       "allegorical painting       1190    975  \n",
       "animal painting            2193   1438  \n",
       "animation                    11      1  \n",
       "architecture                 24     24  \n",
       "artist's book                 9      9  \n",
       "battle painting             470    328  \n",
       "bijinga                     113     74  \n",
       "bird-and-flower painting    125     51  \n",
       "calligraphy                 241     32  \n",
       "capriccio                   151     94  \n",
       "caricature                  603    442  \n",
       "cityscape                  7199   5181  \n",
       "cloudscape                  305    241  \n",
       "design                     3238   1818  \n",
       "figurative                 5494   4564  \n",
       "flower painting            2152   1628  \n",
       "genre painting            18217  14224  \n",
       "graffiti                    237    116  \n",
       "history painting           1134    917  \n",
       "illustration               4739   2611  \n",
       "installation               1923   1765  \n",
       "interior                   1023    769  \n",
       "jewelry                      14     14  \n",
       "landscape                 19581  15401  \n",
       "literary painting           739    579  \n",
       "marina                     2353   1667  \n",
       "miniature                   358    168  \n",
       "mobile                        9      9  \n",
       "mosaic                       35     11  \n",
       "mural                        12     12  \n",
       "mythological painting      2346   1747  \n",
       "nude painting (nu)         3337   2644  \n",
       "panorama                     22     18  \n",
       "pastorale                   101     82  \n",
       "performance                 127    123  \n",
       "photo                      1602   1413  \n",
       "portrait                  21742  17537  \n",
       "poster                      739    642  \n",
       "quadratura                   24     23  \n",
       "religious painting         9152   7843  \n",
       "sculpture                  3104   2663  \n",
       "self-portrait              2066   1771  \n",
       "shan shui                    37     11  \n",
       "sketch and study           5773   4320  \n",
       "stabile                       2      2  \n",
       "still life                 4174   3471  \n",
       "symbolic painting          3626   2225  \n",
       "tapestry                     39     39  \n",
       "tessellation                203    178  \n",
       "trompe-l'œil                  4      4  \n",
       "urushi-e                      1      0  \n",
       "vanitas                      40     37  \n",
       "veduta                      292    224  \n",
       "video                         3      3  \n",
       "wildlife painting           362    167  \n",
       "yakusha-e                   257    243  "
      ]
     },
     "execution_count": 209,
     "metadata": {},
     "output_type": "execute_result"
    }
   ],
   "source": [
    "df.groupby(feature).count()"
   ]
  },
  {
   "cell_type": "markdown",
   "metadata": {
    "hide_input": true
   },
   "source": [
    "## Classes"
   ]
  },
  {
   "cell_type": "markdown",
   "metadata": {},
   "source": [
    "Decide here what feature we want to predict, and save in the `classes` set all the possible values: they are the values that appear at least once in the database."
   ]
  },
  {
   "cell_type": "markdown",
   "metadata": {},
   "source": [
    "Some of the labels are composite: there are subclasses. During the training for simplicity we dropped the lower level specifications and just kept the top level tags. For example \"cubism,precisionism\" will be simply classified as \"cubism\"."
   ]
  },
  {
   "cell_type": "markdown",
   "metadata": {},
   "source": [
    "Let's load the dictionary containing the classes we used during training:"
   ]
  },
  {
   "cell_type": "code",
   "execution_count": 113,
   "metadata": {},
   "outputs": [],
   "source": [
    "with open('../data/classes.pkl', 'rb') as f:\n",
    "    class_indices = pickle.load(f)"
   ]
  },
  {
   "cell_type": "markdown",
   "metadata": {},
   "source": [
    "It's also useful to have a map from class number to class names"
   ]
  },
  {
   "cell_type": "code",
   "execution_count": 114,
   "metadata": {},
   "outputs": [],
   "source": [
    "ind_class = {v: k for k, v in class_indices.items()}"
   ]
  },
  {
   "cell_type": "markdown",
   "metadata": {},
   "source": [
    "A few examples of the kind of classes we will predict:"
   ]
  },
  {
   "cell_type": "code",
   "execution_count": 115,
   "metadata": {},
   "outputs": [
    {
     "data": {
      "text/plain": [
       "['sketch and study',\n",
       " 'miniature',\n",
       " 'installation',\n",
       " 'performance',\n",
       " 'literary painting',\n",
       " 'advertisement',\n",
       " 'cloudscape',\n",
       " 'mythological painting',\n",
       " 'vanitas',\n",
       " 'design']"
      ]
     },
     "execution_count": 115,
     "metadata": {},
     "output_type": "execute_result"
    }
   ],
   "source": [
    "classes = list(class_indices.keys())\n",
    "classes[:10]"
   ]
  },
  {
   "cell_type": "markdown",
   "metadata": {},
   "source": [
    "## Image Size"
   ]
  },
  {
   "cell_type": "markdown",
   "metadata": {},
   "source": [
    "The images will be scaled down to this size"
   ]
  },
  {
   "cell_type": "code",
   "execution_count": 116,
   "metadata": {},
   "outputs": [],
   "source": [
    "img_size = (256,256)"
   ]
  },
  {
   "cell_type": "markdown",
   "metadata": {},
   "source": [
    "## Create data generators"
   ]
  },
  {
   "cell_type": "code",
   "execution_count": 117,
   "metadata": {},
   "outputs": [],
   "source": [
    "datagen = ImageDataGenerator(rescale=1/255)"
   ]
  },
  {
   "cell_type": "code",
   "execution_count": 118,
   "metadata": {},
   "outputs": [
    {
     "name": "stdout",
     "output_type": "stream",
     "text": [
      "Found 149142 images belonging to 58 classes.\n"
     ]
    }
   ],
   "source": [
    "test_generator = datagen.flow_from_dataframe(\n",
    "                                df,\n",
    "                                directory=\"../data/images/\",\n",
    "                                x_col=\"_id\",\n",
    "                                has_ext=False,\n",
    "                                target_size=img_size,\n",
    "                                y_col=feature,\n",
    "                                batch_size=1) \n",
    "# ,\n",
    "#                                 classes = classes)"
   ]
  },
  {
   "cell_type": "code",
   "execution_count": 119,
   "metadata": {},
   "outputs": [],
   "source": [
    "test_ind_class = {v: k for k, v in test_generator.class_indices.items()}"
   ]
  },
  {
   "cell_type": "markdown",
   "metadata": {},
   "source": [
    "# Load Model "
   ]
  },
  {
   "cell_type": "code",
   "execution_count": 120,
   "metadata": {},
   "outputs": [],
   "source": [
    "model = load_model('../data/model.h5')"
   ]
  },
  {
   "cell_type": "markdown",
   "metadata": {},
   "source": [
    "# Evaluate\n",
    "\n",
    "This returns the loss and accuracy"
   ]
  },
  {
   "cell_type": "code",
   "execution_count": 236,
   "metadata": {},
   "outputs": [
    {
     "data": {
      "image/png": "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\n",
      "text/plain": [
       "<Figure size 432x288 with 1 Axes>"
      ]
     },
     "metadata": {
      "needs_background": "light"
     },
     "output_type": "display_data"
    }
   ],
   "source": [
    "test_img = test_generator.next()\n",
    "\n",
    "plt.imshow(test_img[0][0]);plt.axis('off');"
   ]
  },
  {
   "cell_type": "markdown",
   "metadata": {},
   "source": [
    "The true label is"
   ]
  },
  {
   "cell_type": "code",
   "execution_count": 224,
   "metadata": {},
   "outputs": [
    {
     "data": {
      "text/plain": [
       "'still life'"
      ]
     },
     "execution_count": 224,
     "metadata": {},
     "output_type": "execute_result"
    }
   ],
   "source": [
    "test_ind_class[np.argmax(test_img[1])]"
   ]
  },
  {
   "cell_type": "code",
   "execution_count": 225,
   "metadata": {},
   "outputs": [],
   "source": [
    "pred = model.predict(test_img[0])[0]"
   ]
  },
  {
   "cell_type": "code",
   "execution_count": 226,
   "metadata": {},
   "outputs": [],
   "source": [
    "top5 = np.argsort(pred)[:-6:-1]"
   ]
  },
  {
   "cell_type": "code",
   "execution_count": 227,
   "metadata": {},
   "outputs": [
    {
     "data": {
      "text/plain": [
       "array([0.5261299 , 0.19977413, 0.04599087, 0.04342756, 0.03130272],\n",
       "      dtype=float32)"
      ]
     },
     "execution_count": 227,
     "metadata": {},
     "output_type": "execute_result"
    }
   ],
   "source": [
    "pred[top5]"
   ]
  },
  {
   "cell_type": "markdown",
   "metadata": {},
   "source": [
    "Let's print the top five predictions for this image"
   ]
  },
  {
   "cell_type": "code",
   "execution_count": 228,
   "metadata": {},
   "outputs": [
    {
     "name": "stdout",
     "output_type": "stream",
     "text": [
      "abstract\n",
      "figurative\n",
      "installation\n",
      "still life\n",
      "cityscape\n"
     ]
    }
   ],
   "source": [
    "for p in top5:\n",
    "    print(ind_class[p])"
   ]
  },
  {
   "cell_type": "markdown",
   "metadata": {},
   "source": [
    "# Misclassification bias"
   ]
  },
  {
   "cell_type": "code",
   "execution_count": 249,
   "metadata": {},
   "outputs": [],
   "source": [
    "from tqdm import tqdm_notebook"
   ]
  },
  {
   "cell_type": "code",
<<<<<<< HEAD
   "execution_count": 288,
=======
   "execution_count": null,
>>>>>>> 88e619e53d675122ce82a87e8e94ac8d2500cca6
   "metadata": {},
   "outputs": [
    {
     "data": {
      "application/vnd.jupyter.widget-view+json": {
       "model_id": "42a818022a4a4c2880f184d94d6fb151",
       "version_major": 2,
       "version_minor": 0
      },
      "text/plain": [
       "HBox(children=(IntProgress(value=0, max=300), HTML(value='')))"
      ]
     },
     "metadata": {},
     "output_type": "display_data"
<<<<<<< HEAD
    },
    {
     "ename": "KeyboardInterrupt",
     "evalue": "",
     "output_type": "error",
     "traceback": [
      "\u001b[0;31m---------------------------------------------------------------------------\u001b[0m",
      "\u001b[0;31mKeyboardInterrupt\u001b[0m                         Traceback (most recent call last)",
      "\u001b[0;32m<ipython-input-288-f79f86d4b88d>\u001b[0m in \u001b[0;36m<module>\u001b[0;34m\u001b[0m\n\u001b[1;32m     10\u001b[0m     \u001b[0mtrue_class\u001b[0m \u001b[0;34m=\u001b[0m \u001b[0mtest_ind_class\u001b[0m\u001b[0;34m[\u001b[0m\u001b[0mnp\u001b[0m\u001b[0;34m.\u001b[0m\u001b[0margmax\u001b[0m\u001b[0;34m(\u001b[0m\u001b[0mtest_img\u001b[0m\u001b[0;34m[\u001b[0m\u001b[0;36m1\u001b[0m\u001b[0;34m]\u001b[0m\u001b[0;34m)\u001b[0m\u001b[0;34m]\u001b[0m\u001b[0;34m\u001b[0m\u001b[0;34m\u001b[0m\u001b[0m\n\u001b[1;32m     11\u001b[0m \u001b[0;34m\u001b[0m\u001b[0m\n\u001b[0;32m---> 12\u001b[0;31m     \u001b[0mpred\u001b[0m \u001b[0;34m=\u001b[0m \u001b[0mmodel\u001b[0m\u001b[0;34m.\u001b[0m\u001b[0mpredict\u001b[0m\u001b[0;34m(\u001b[0m\u001b[0mtest_img\u001b[0m\u001b[0;34m[\u001b[0m\u001b[0;36m0\u001b[0m\u001b[0;34m]\u001b[0m\u001b[0;34m)\u001b[0m\u001b[0;34m[\u001b[0m\u001b[0;36m0\u001b[0m\u001b[0;34m]\u001b[0m\u001b[0;34m\u001b[0m\u001b[0;34m\u001b[0m\u001b[0m\n\u001b[0m\u001b[1;32m     13\u001b[0m     \u001b[0mpred_class\u001b[0m \u001b[0;34m=\u001b[0m \u001b[0mind_class\u001b[0m\u001b[0;34m[\u001b[0m\u001b[0mnp\u001b[0m\u001b[0;34m.\u001b[0m\u001b[0margmax\u001b[0m\u001b[0;34m(\u001b[0m\u001b[0mpred\u001b[0m\u001b[0;34m)\u001b[0m\u001b[0;34m]\u001b[0m\u001b[0;34m\u001b[0m\u001b[0;34m\u001b[0m\u001b[0m\n\u001b[1;32m     14\u001b[0m \u001b[0;34m\u001b[0m\u001b[0m\n",
      "\u001b[0;32m~/opt/anaconda3/envs/science/lib/python3.6/site-packages/keras/engine/training.py\u001b[0m in \u001b[0;36mpredict\u001b[0;34m(self, x, batch_size, verbose, steps)\u001b[0m\n\u001b[1;32m   1167\u001b[0m                                             \u001b[0mbatch_size\u001b[0m\u001b[0;34m=\u001b[0m\u001b[0mbatch_size\u001b[0m\u001b[0;34m,\u001b[0m\u001b[0;34m\u001b[0m\u001b[0;34m\u001b[0m\u001b[0m\n\u001b[1;32m   1168\u001b[0m                                             \u001b[0mverbose\u001b[0m\u001b[0;34m=\u001b[0m\u001b[0mverbose\u001b[0m\u001b[0;34m,\u001b[0m\u001b[0;34m\u001b[0m\u001b[0;34m\u001b[0m\u001b[0m\n\u001b[0;32m-> 1169\u001b[0;31m                                             steps=steps)\n\u001b[0m\u001b[1;32m   1170\u001b[0m \u001b[0;34m\u001b[0m\u001b[0m\n\u001b[1;32m   1171\u001b[0m     def train_on_batch(self, x, y,\n",
      "\u001b[0;32m~/opt/anaconda3/envs/science/lib/python3.6/site-packages/keras/engine/training_arrays.py\u001b[0m in \u001b[0;36mpredict_loop\u001b[0;34m(model, f, ins, batch_size, verbose, steps)\u001b[0m\n\u001b[1;32m    292\u001b[0m                 \u001b[0mins_batch\u001b[0m\u001b[0;34m[\u001b[0m\u001b[0mi\u001b[0m\u001b[0;34m]\u001b[0m \u001b[0;34m=\u001b[0m \u001b[0mins_batch\u001b[0m\u001b[0;34m[\u001b[0m\u001b[0mi\u001b[0m\u001b[0;34m]\u001b[0m\u001b[0;34m.\u001b[0m\u001b[0mtoarray\u001b[0m\u001b[0;34m(\u001b[0m\u001b[0;34m)\u001b[0m\u001b[0;34m\u001b[0m\u001b[0;34m\u001b[0m\u001b[0m\n\u001b[1;32m    293\u001b[0m \u001b[0;34m\u001b[0m\u001b[0m\n\u001b[0;32m--> 294\u001b[0;31m             \u001b[0mbatch_outs\u001b[0m \u001b[0;34m=\u001b[0m \u001b[0mf\u001b[0m\u001b[0;34m(\u001b[0m\u001b[0mins_batch\u001b[0m\u001b[0;34m)\u001b[0m\u001b[0;34m\u001b[0m\u001b[0;34m\u001b[0m\u001b[0m\n\u001b[0m\u001b[1;32m    295\u001b[0m             \u001b[0mbatch_outs\u001b[0m \u001b[0;34m=\u001b[0m \u001b[0mto_list\u001b[0m\u001b[0;34m(\u001b[0m\u001b[0mbatch_outs\u001b[0m\u001b[0;34m)\u001b[0m\u001b[0;34m\u001b[0m\u001b[0;34m\u001b[0m\u001b[0m\n\u001b[1;32m    296\u001b[0m             \u001b[0;32mif\u001b[0m \u001b[0mbatch_index\u001b[0m \u001b[0;34m==\u001b[0m \u001b[0;36m0\u001b[0m\u001b[0;34m:\u001b[0m\u001b[0;34m\u001b[0m\u001b[0;34m\u001b[0m\u001b[0m\n",
      "\u001b[0;32m~/opt/anaconda3/envs/science/lib/python3.6/site-packages/keras/backend/tensorflow_backend.py\u001b[0m in \u001b[0;36m__call__\u001b[0;34m(self, inputs)\u001b[0m\n\u001b[1;32m   2713\u001b[0m                 \u001b[0;32mreturn\u001b[0m \u001b[0mself\u001b[0m\u001b[0;34m.\u001b[0m\u001b[0m_legacy_call\u001b[0m\u001b[0;34m(\u001b[0m\u001b[0minputs\u001b[0m\u001b[0;34m)\u001b[0m\u001b[0;34m\u001b[0m\u001b[0;34m\u001b[0m\u001b[0m\n\u001b[1;32m   2714\u001b[0m \u001b[0;34m\u001b[0m\u001b[0m\n\u001b[0;32m-> 2715\u001b[0;31m             \u001b[0;32mreturn\u001b[0m \u001b[0mself\u001b[0m\u001b[0;34m.\u001b[0m\u001b[0m_call\u001b[0m\u001b[0;34m(\u001b[0m\u001b[0minputs\u001b[0m\u001b[0;34m)\u001b[0m\u001b[0;34m\u001b[0m\u001b[0;34m\u001b[0m\u001b[0m\n\u001b[0m\u001b[1;32m   2716\u001b[0m         \u001b[0;32melse\u001b[0m\u001b[0;34m:\u001b[0m\u001b[0;34m\u001b[0m\u001b[0;34m\u001b[0m\u001b[0m\n\u001b[1;32m   2717\u001b[0m             \u001b[0;32mif\u001b[0m \u001b[0mpy_any\u001b[0m\u001b[0;34m(\u001b[0m\u001b[0mis_tensor\u001b[0m\u001b[0;34m(\u001b[0m\u001b[0mx\u001b[0m\u001b[0;34m)\u001b[0m \u001b[0;32mfor\u001b[0m \u001b[0mx\u001b[0m \u001b[0;32min\u001b[0m \u001b[0minputs\u001b[0m\u001b[0;34m)\u001b[0m\u001b[0;34m:\u001b[0m\u001b[0;34m\u001b[0m\u001b[0;34m\u001b[0m\u001b[0m\n",
      "\u001b[0;32m~/opt/anaconda3/envs/science/lib/python3.6/site-packages/keras/backend/tensorflow_backend.py\u001b[0m in \u001b[0;36m_call\u001b[0;34m(self, inputs)\u001b[0m\n\u001b[1;32m   2673\u001b[0m             \u001b[0mfetched\u001b[0m \u001b[0;34m=\u001b[0m \u001b[0mself\u001b[0m\u001b[0;34m.\u001b[0m\u001b[0m_callable_fn\u001b[0m\u001b[0;34m(\u001b[0m\u001b[0;34m*\u001b[0m\u001b[0marray_vals\u001b[0m\u001b[0;34m,\u001b[0m \u001b[0mrun_metadata\u001b[0m\u001b[0;34m=\u001b[0m\u001b[0mself\u001b[0m\u001b[0;34m.\u001b[0m\u001b[0mrun_metadata\u001b[0m\u001b[0;34m)\u001b[0m\u001b[0;34m\u001b[0m\u001b[0;34m\u001b[0m\u001b[0m\n\u001b[1;32m   2674\u001b[0m         \u001b[0;32melse\u001b[0m\u001b[0;34m:\u001b[0m\u001b[0;34m\u001b[0m\u001b[0;34m\u001b[0m\u001b[0m\n\u001b[0;32m-> 2675\u001b[0;31m             \u001b[0mfetched\u001b[0m \u001b[0;34m=\u001b[0m \u001b[0mself\u001b[0m\u001b[0;34m.\u001b[0m\u001b[0m_callable_fn\u001b[0m\u001b[0;34m(\u001b[0m\u001b[0;34m*\u001b[0m\u001b[0marray_vals\u001b[0m\u001b[0;34m)\u001b[0m\u001b[0;34m\u001b[0m\u001b[0;34m\u001b[0m\u001b[0m\n\u001b[0m\u001b[1;32m   2676\u001b[0m         \u001b[0;32mreturn\u001b[0m \u001b[0mfetched\u001b[0m\u001b[0;34m[\u001b[0m\u001b[0;34m:\u001b[0m\u001b[0mlen\u001b[0m\u001b[0;34m(\u001b[0m\u001b[0mself\u001b[0m\u001b[0;34m.\u001b[0m\u001b[0moutputs\u001b[0m\u001b[0;34m)\u001b[0m\u001b[0;34m]\u001b[0m\u001b[0;34m\u001b[0m\u001b[0;34m\u001b[0m\u001b[0m\n\u001b[1;32m   2677\u001b[0m \u001b[0;34m\u001b[0m\u001b[0m\n",
      "\u001b[0;32m~/opt/anaconda3/envs/science/lib/python3.6/site-packages/tensorflow/python/client/session.py\u001b[0m in \u001b[0;36m__call__\u001b[0;34m(self, *args, **kwargs)\u001b[0m\n\u001b[1;32m   1380\u001b[0m           ret = tf_session.TF_SessionRunCallable(\n\u001b[1;32m   1381\u001b[0m               \u001b[0mself\u001b[0m\u001b[0;34m.\u001b[0m\u001b[0m_session\u001b[0m\u001b[0;34m.\u001b[0m\u001b[0m_session\u001b[0m\u001b[0;34m,\u001b[0m \u001b[0mself\u001b[0m\u001b[0;34m.\u001b[0m\u001b[0m_handle\u001b[0m\u001b[0;34m,\u001b[0m \u001b[0margs\u001b[0m\u001b[0;34m,\u001b[0m \u001b[0mstatus\u001b[0m\u001b[0;34m,\u001b[0m\u001b[0;34m\u001b[0m\u001b[0;34m\u001b[0m\u001b[0m\n\u001b[0;32m-> 1382\u001b[0;31m               run_metadata_ptr)\n\u001b[0m\u001b[1;32m   1383\u001b[0m         \u001b[0;32mif\u001b[0m \u001b[0mrun_metadata\u001b[0m\u001b[0;34m:\u001b[0m\u001b[0;34m\u001b[0m\u001b[0;34m\u001b[0m\u001b[0m\n\u001b[1;32m   1384\u001b[0m           \u001b[0mproto_data\u001b[0m \u001b[0;34m=\u001b[0m \u001b[0mtf_session\u001b[0m\u001b[0;34m.\u001b[0m\u001b[0mTF_GetBuffer\u001b[0m\u001b[0;34m(\u001b[0m\u001b[0mrun_metadata_ptr\u001b[0m\u001b[0;34m)\u001b[0m\u001b[0;34m\u001b[0m\u001b[0;34m\u001b[0m\u001b[0m\n",
      "\u001b[0;31mKeyboardInterrupt\u001b[0m: "
     ]
=======
>>>>>>> 88e619e53d675122ce82a87e8e94ac8d2500cca6
    }
   ],
   "source": [
    "samples = 300\n",
    "\n",
    "predictions = []\n",
    "truths = []\n",
    "\n",
    "for i in tqdm_notebook(range(samples)):\n",
    "    \n",
    "    test_img = test_generator.next()\n",
    "    \n",
    "    true_class = test_ind_class[np.argmax(test_img[1])]\n",
    "    \n",
    "    pred = model.predict(test_img[0])[0]\n",
    "    pred_class = ind_class[np.argmax(pred)]\n",
    "    \n",
    "    predictions.append(pred_class)\n",
    "    truths.append(true_class)"
   ]
  },
  {
   "cell_type": "markdown",
   "metadata": {},
   "source": [
    "This list contains `True` for the images that were correctly classified"
   ]
  },
  {
   "cell_type": "code",
<<<<<<< HEAD
   "execution_count": 289,
=======
   "execution_count": 270,
>>>>>>> 88e619e53d675122ce82a87e8e94ac8d2500cca6
   "metadata": {},
   "outputs": [],
   "source": [
    "classification = pd.DataFrame(list(zip(predictions,truths)),columns=(\"prediction\",\"truth\"))"
   ]
  },
  {
   "cell_type": "code",
<<<<<<< HEAD
   "execution_count": 290,
=======
   "execution_count": 274,
>>>>>>> 88e619e53d675122ce82a87e8e94ac8d2500cca6
   "metadata": {},
   "outputs": [],
   "source": [
    "misclass = classification[classification[\"prediction\"] != classification[\"truth\"]]"
   ]
  },
  {
   "cell_type": "code",
<<<<<<< HEAD
   "execution_count": 293,
=======
   "execution_count": 286,
>>>>>>> 88e619e53d675122ce82a87e8e94ac8d2500cca6
   "metadata": {},
   "outputs": [
    {
     "data": {
<<<<<<< HEAD
      "text/plain": [
       "portrait                    18\n",
       "abstract                    12\n",
       "genre painting               8\n",
       "landscape                    8\n",
       "figurative                   5\n",
       "sketch and study             5\n",
       "cityscape                    5\n",
       "symbolic painting            3\n",
       "illustration                 3\n",
       "photo                        2\n",
       "still life                   2\n",
       "design                       2\n",
       "religious painting           2\n",
       "animal painting              2\n",
       "yakusha-e                    1\n",
       "calligraphy                  1\n",
       "bird-and-flower painting     1\n",
       "poster                       1\n",
       "interior                     1\n",
       "Name: prediction, dtype: int64"
      ]
     },
     "execution_count": 293,
=======
      "text/html": [
       "<div>\n",
       "<style scoped>\n",
       "    .dataframe tbody tr th:only-of-type {\n",
       "        vertical-align: middle;\n",
       "    }\n",
       "\n",
       "    .dataframe tbody tr th {\n",
       "        vertical-align: top;\n",
       "    }\n",
       "\n",
       "    .dataframe thead th {\n",
       "        text-align: right;\n",
       "    }\n",
       "</style>\n",
       "<table border=\"1\" class=\"dataframe\">\n",
       "  <thead>\n",
       "    <tr style=\"text-align: right;\">\n",
       "      <th></th>\n",
       "      <th>truth</th>\n",
       "    </tr>\n",
       "    <tr>\n",
       "      <th>prediction</th>\n",
       "      <th></th>\n",
       "    </tr>\n",
       "  </thead>\n",
       "  <tbody>\n",
       "    <tr>\n",
       "      <th>abstract</th>\n",
       "      <td>12</td>\n",
       "    </tr>\n",
       "    <tr>\n",
       "      <th>animal painting</th>\n",
       "      <td>1</td>\n",
       "    </tr>\n",
       "    <tr>\n",
       "      <th>cityscape</th>\n",
       "      <td>2</td>\n",
       "    </tr>\n",
       "    <tr>\n",
       "      <th>design</th>\n",
       "      <td>1</td>\n",
       "    </tr>\n",
       "    <tr>\n",
       "      <th>figurative</th>\n",
       "      <td>3</td>\n",
       "    </tr>\n",
       "    <tr>\n",
       "      <th>genre painting</th>\n",
       "      <td>8</td>\n",
       "    </tr>\n",
       "    <tr>\n",
       "      <th>illustration</th>\n",
       "      <td>1</td>\n",
       "    </tr>\n",
       "    <tr>\n",
       "      <th>landscape</th>\n",
       "      <td>7</td>\n",
       "    </tr>\n",
       "    <tr>\n",
       "      <th>nude painting (nu)</th>\n",
       "      <td>1</td>\n",
       "    </tr>\n",
       "    <tr>\n",
       "      <th>portrait</th>\n",
       "      <td>5</td>\n",
       "    </tr>\n",
       "    <tr>\n",
       "      <th>religious painting</th>\n",
       "      <td>2</td>\n",
       "    </tr>\n",
       "    <tr>\n",
       "      <th>sculpture</th>\n",
       "      <td>1</td>\n",
       "    </tr>\n",
       "    <tr>\n",
       "      <th>sketch and study</th>\n",
       "      <td>1</td>\n",
       "    </tr>\n",
       "    <tr>\n",
       "      <th>symbolic painting</th>\n",
       "      <td>2</td>\n",
       "    </tr>\n",
       "  </tbody>\n",
       "</table>\n",
       "</div>"
      ],
      "text/plain": [
       "                    truth\n",
       "prediction               \n",
       "abstract               12\n",
       "animal painting         1\n",
       "cityscape               2\n",
       "design                  1\n",
       "figurative              3\n",
       "genre painting          8\n",
       "illustration            1\n",
       "landscape               7\n",
       "nude painting (nu)      1\n",
       "portrait                5\n",
       "religious painting      2\n",
       "sculpture               1\n",
       "sketch and study        1\n",
       "symbolic painting       2"
      ]
     },
     "execution_count": 286,
>>>>>>> 88e619e53d675122ce82a87e8e94ac8d2500cca6
     "metadata": {},
     "output_type": "execute_result"
    }
   ],
   "source": [
<<<<<<< HEAD
    "misclass[\"prediction\"].value_counts()"
=======
    "misclass.groupby(\"prediction\").count()"
>>>>>>> 88e619e53d675122ce82a87e8e94ac8d2500cca6
   ]
  },
  {
   "cell_type": "code",
   "execution_count": null,
   "metadata": {},
   "outputs": [],
   "source": []
  }
 ],
 "metadata": {
  "kernelspec": {
   "display_name": "science",
   "language": "python",
   "name": "science"
  },
  "language_info": {
   "codemirror_mode": {
    "name": "ipython",
    "version": 3
   },
   "file_extension": ".py",
   "mimetype": "text/x-python",
   "name": "python",
   "nbconvert_exporter": "python",
   "pygments_lexer": "ipython3",
   "version": "3.6.7"
  },
  "toc": {
   "base_numbering": 1,
   "nav_menu": {},
   "number_sections": true,
   "sideBar": true,
   "skip_h1_title": false,
   "title_cell": "Table of Contents",
   "title_sidebar": "Contents",
   "toc_cell": false,
   "toc_position": {},
   "toc_section_display": true,
   "toc_window_display": false
  },
  "varInspector": {
   "cols": {
    "lenName": 16,
    "lenType": 16,
    "lenVar": 40
   },
   "kernels_config": {
    "python": {
     "delete_cmd_postfix": "",
     "delete_cmd_prefix": "del ",
     "library": "var_list.py",
     "varRefreshCmd": "print(var_dic_list())"
    },
    "r": {
     "delete_cmd_postfix": ") ",
     "delete_cmd_prefix": "rm(",
     "library": "var_list.r",
     "varRefreshCmd": "cat(var_dic_list()) "
    }
   },
   "types_to_exclude": [
    "module",
    "function",
    "builtin_function_or_method",
    "instance",
    "_Feature"
   ],
   "window_display": false
  }
 },
 "nbformat": 4,
 "nbformat_minor": 2
}
