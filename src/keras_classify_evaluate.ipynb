{
 "cells": [
  {
   "cell_type": "markdown",
   "metadata": {},
   "source": [
    "The target values must be in a column of the dataframe, and must be a numerical datatype, so we must convert them before training.\n",
    "\n",
    "IMPORTANT: Notice that we are importing `ImageDataGenerator` from `keras_preprocessing` instead of `keras.preprocessing`, because the people at Keras are a bunch of old reactionary dinosaurs.\n",
    "\n",
    "See the discussion [here](https://medium.com/@vijayabhaskar96/tutorial-on-keras-imagedatagenerator-with-flow-from-dataframe-8bd5776e45c1), and [here](https://medium.com/@vijayabhaskar96/tutorial-on-keras-imagedatagenerator-with-flow-from-dataframe-8bd5776e45c1)."
   ]
  },
  {
   "cell_type": "code",
   "execution_count": 1,
   "metadata": {
    "cell_style": "center",
    "scrolled": true
   },
   "outputs": [
    {
     "name": "stderr",
     "output_type": "stream",
     "text": [
      "Using TensorFlow backend.\n"
     ]
    }
   ],
   "source": [
    "from keras_preprocessing.image import ImageDataGenerator\n",
    "from keras.models import load_model\n",
    "import pickle\n",
    "\n",
    "import pandas as pd\n",
    "import numpy as np\n",
    "import matplotlib.pyplot as plt"
   ]
  },
  {
   "cell_type": "markdown",
   "metadata": {},
   "source": [
    "# Load data and preparation"
   ]
  },
  {
   "cell_type": "markdown",
   "metadata": {},
   "source": [
    "The csv files `db.csv` contains all the metadata we have extracted from wikiart: every entry corresponds to an artwork, and the `_id` column contains the filename of the image in the `data/images/` directory associated to that artwork."
   ]
  },
  {
   "cell_type": "code",
   "execution_count": 2,
   "metadata": {},
   "outputs": [],
   "source": [
    "feature = \"style\""
   ]
  },
  {
   "cell_type": "code",
   "execution_count": 3,
   "metadata": {
    "cell_style": "center"
   },
   "outputs": [],
   "source": [
    "nrows = None # to load all \n",
    "df = pd.read_csv(\"../data/db.csv\",nrows=nrows,na_values=\"?\")"
   ]
  },
  {
   "cell_type": "markdown",
   "metadata": {},
   "source": [
    "Let's look at this dataframe:"
   ]
  },
  {
   "cell_type": "code",
   "execution_count": 4,
   "metadata": {},
   "outputs": [],
   "source": [
    "df.dropna(subset=[feature,],inplace=True)\n",
    "df[feature] = df[feature].map(lambda s: str(s).split(\",\")[0].strip())"
   ]
  },
  {
   "cell_type": "code",
   "execution_count": 5,
   "metadata": {},
   "outputs": [
    {
     "data": {
      "text/html": [
       "<div>\n",
       "<style scoped>\n",
       "    .dataframe tbody tr th:only-of-type {\n",
       "        vertical-align: middle;\n",
       "    }\n",
       "\n",
       "    .dataframe tbody tr th {\n",
       "        vertical-align: top;\n",
       "    }\n",
       "\n",
       "    .dataframe thead th {\n",
       "        text-align: right;\n",
       "    }\n",
       "</style>\n",
       "<table border=\"1\" class=\"dataframe\">\n",
       "  <thead>\n",
       "    <tr style=\"text-align: right;\">\n",
       "      <th></th>\n",
       "      <th>_id</th>\n",
       "      <th>artistname</th>\n",
       "      <th>genre</th>\n",
       "      <th>image</th>\n",
       "      <th>image_size_data</th>\n",
       "      <th>style</th>\n",
       "      <th>title</th>\n",
       "      <th>year</th>\n",
       "    </tr>\n",
       "  </thead>\n",
       "  <tbody>\n",
       "    <tr>\n",
       "      <th>0</th>\n",
       "      <td>57727b22edc2cb3880e0d820</td>\n",
       "      <td>giovanni battista piranesi</td>\n",
       "      <td>design</td>\n",
       "      <td>https://uploads1.wikiart.org/images/giovanni-b...</td>\n",
       "      <td>[{'sizekb': 13, 'width': 210, 'height': 266, '...</td>\n",
       "      <td>neoclassicism</td>\n",
       "      <td>plan, elevation and details of doric temples i...</td>\n",
       "      <td>NaN</td>\n",
       "    </tr>\n",
       "    <tr>\n",
       "      <th>1</th>\n",
       "      <td>57727b22edc2cb3880e0d830</td>\n",
       "      <td>giovanni battista piranesi</td>\n",
       "      <td>design</td>\n",
       "      <td>https://uploads0.wikiart.org/images/giovanni-b...</td>\n",
       "      <td>[{'sizekb': 8, 'width': 210, 'height': 149, 'u...</td>\n",
       "      <td>neoclassicism</td>\n",
       "      <td>plans of elevations and sections of thermopolium</td>\n",
       "      <td>NaN</td>\n",
       "    </tr>\n",
       "    <tr>\n",
       "      <th>2</th>\n",
       "      <td>57727b22edc2cb3880e0d840</td>\n",
       "      <td>giovanni battista piranesi</td>\n",
       "      <td>design</td>\n",
       "      <td>https://uploads3.wikiart.org/images/giovanni-b...</td>\n",
       "      <td>[{'sizekb': 7, 'width': 210, 'height': 148, 'u...</td>\n",
       "      <td>neoclassicism</td>\n",
       "      <td>plants related to the houses opposite to that ...</td>\n",
       "      <td>NaN</td>\n",
       "    </tr>\n",
       "    <tr>\n",
       "      <th>3</th>\n",
       "      <td>57727b22edc2cb3880e0d850</td>\n",
       "      <td>giovanni battista piranesi</td>\n",
       "      <td>sketch and study</td>\n",
       "      <td>https://uploads2.wikiart.org/images/giovanni-b...</td>\n",
       "      <td>[{'sizekb': 6, 'width': 210, 'height': 161, 'u...</td>\n",
       "      <td>neoclassicism</td>\n",
       "      <td>pluto</td>\n",
       "      <td>NaN</td>\n",
       "    </tr>\n",
       "    <tr>\n",
       "      <th>4</th>\n",
       "      <td>57727b23edc2cb3880e0d860</td>\n",
       "      <td>giovanni battista piranesi</td>\n",
       "      <td>sketch and study</td>\n",
       "      <td>https://uploads8.wikiart.org/images/giovanni-b...</td>\n",
       "      <td>[{'sizekb': 10, 'width': 210, 'height': 296, '...</td>\n",
       "      <td>neoclassicism</td>\n",
       "      <td>pluto and proserpina</td>\n",
       "      <td>NaN</td>\n",
       "    </tr>\n",
       "  </tbody>\n",
       "</table>\n",
       "</div>"
      ],
      "text/plain": [
       "                        _id                  artistname             genre  \\\n",
       "0  57727b22edc2cb3880e0d820  giovanni battista piranesi            design   \n",
       "1  57727b22edc2cb3880e0d830  giovanni battista piranesi            design   \n",
       "2  57727b22edc2cb3880e0d840  giovanni battista piranesi            design   \n",
       "3  57727b22edc2cb3880e0d850  giovanni battista piranesi  sketch and study   \n",
       "4  57727b23edc2cb3880e0d860  giovanni battista piranesi  sketch and study   \n",
       "\n",
       "                                               image  \\\n",
       "0  https://uploads1.wikiart.org/images/giovanni-b...   \n",
       "1  https://uploads0.wikiart.org/images/giovanni-b...   \n",
       "2  https://uploads3.wikiart.org/images/giovanni-b...   \n",
       "3  https://uploads2.wikiart.org/images/giovanni-b...   \n",
       "4  https://uploads8.wikiart.org/images/giovanni-b...   \n",
       "\n",
       "                                     image_size_data          style  \\\n",
       "0  [{'sizekb': 13, 'width': 210, 'height': 266, '...  neoclassicism   \n",
       "1  [{'sizekb': 8, 'width': 210, 'height': 149, 'u...  neoclassicism   \n",
       "2  [{'sizekb': 7, 'width': 210, 'height': 148, 'u...  neoclassicism   \n",
       "3  [{'sizekb': 6, 'width': 210, 'height': 161, 'u...  neoclassicism   \n",
       "4  [{'sizekb': 10, 'width': 210, 'height': 296, '...  neoclassicism   \n",
       "\n",
       "                                               title year  \n",
       "0  plan, elevation and details of doric temples i...  NaN  \n",
       "1   plans of elevations and sections of thermopolium  NaN  \n",
       "2  plants related to the houses opposite to that ...  NaN  \n",
       "3                                              pluto  NaN  \n",
       "4                               pluto and proserpina  NaN  "
      ]
     },
     "execution_count": 5,
     "metadata": {},
     "output_type": "execute_result"
    }
   ],
   "source": [
    "df.head()"
   ]
  },
  {
   "cell_type": "markdown",
   "metadata": {},
   "source": [
    "Let's initialize a dataimage generator: it is a nice interface towards many (pre)processing method in Keras, including some utilities for data augmentation."
   ]
  },
  {
   "cell_type": "markdown",
   "metadata": {},
   "source": [
    "We will use the amazing `flow_from_dataframe` function to serve the data we need.\n",
    "\n",
    "If the files do not have an extension, run this in a shell:\n",
    "\n",
    "    $ for f in *; do mv \"$f\" \"$f.jpg\"; done"
   ]
  },
  {
   "cell_type": "code",
   "execution_count": 41,
   "metadata": {},
   "outputs": [
    {
     "data": {
      "text/plain": [
       "0                     design\n",
       "1                     design\n",
       "2                     design\n",
       "3           sketch and study\n",
       "4           sketch and study\n",
       "5                     veduta\n",
       "6                   interior\n",
       "7                   portrait\n",
       "8                   portrait\n",
       "9                   portrait\n",
       "10            genre painting\n",
       "11                    design\n",
       "12                    design\n",
       "13                    design\n",
       "14          sketch and study\n",
       "15                 cityscape\n",
       "16                    design\n",
       "17                 cityscape\n",
       "18                    design\n",
       "19                    design\n",
       "20                  interior\n",
       "21          sketch and study\n",
       "22            genre painting\n",
       "23                 cityscape\n",
       "24          sketch and study\n",
       "25        religious painting\n",
       "26                 capriccio\n",
       "27                    design\n",
       "28                    design\n",
       "29            genre painting\n",
       "                 ...        \n",
       "151984                marina\n",
       "151985             landscape\n",
       "151986                marina\n",
       "151987                marina\n",
       "151988             landscape\n",
       "151989             landscape\n",
       "151990             landscape\n",
       "151991                marina\n",
       "151992             landscape\n",
       "151993             landscape\n",
       "151994             landscape\n",
       "151995       battle painting\n",
       "151996             landscape\n",
       "151997                marina\n",
       "151998             landscape\n",
       "151999             landscape\n",
       "152000                marina\n",
       "152001     symbolic painting\n",
       "152002             landscape\n",
       "152003             landscape\n",
       "152004             landscape\n",
       "152005             cityscape\n",
       "152006             landscape\n",
       "152007             landscape\n",
       "152008             landscape\n",
       "152009             landscape\n",
       "152010             landscape\n",
       "152011                marina\n",
       "152012                marina\n",
       "152013              portrait\n",
       "Name: genre, Length: 148475, dtype: object"
      ]
     },
     "execution_count": 41,
     "metadata": {},
     "output_type": "execute_result"
    }
   ],
   "source": [
    "df[\"genre\"]"
   ]
  },
  {
   "cell_type": "code",
   "execution_count": 6,
   "metadata": {},
   "outputs": [
    {
     "data": {
      "text/html": [
       "<div>\n",
       "<style scoped>\n",
       "    .dataframe tbody tr th:only-of-type {\n",
       "        vertical-align: middle;\n",
       "    }\n",
       "\n",
       "    .dataframe tbody tr th {\n",
       "        vertical-align: top;\n",
       "    }\n",
       "\n",
       "    .dataframe thead th {\n",
       "        text-align: right;\n",
       "    }\n",
       "</style>\n",
       "<table border=\"1\" class=\"dataframe\">\n",
       "  <thead>\n",
       "    <tr style=\"text-align: right;\">\n",
       "      <th></th>\n",
       "      <th>_id</th>\n",
       "      <th>artistname</th>\n",
       "      <th>genre</th>\n",
       "      <th>image</th>\n",
       "      <th>image_size_data</th>\n",
       "      <th>style</th>\n",
       "      <th>title</th>\n",
       "      <th>year</th>\n",
       "    </tr>\n",
       "  </thead>\n",
       "  <tbody>\n",
       "    <tr>\n",
       "      <th>count</th>\n",
       "      <td>148475</td>\n",
       "      <td>148475</td>\n",
       "      <td>147296</td>\n",
       "      <td>148475</td>\n",
       "      <td>148475</td>\n",
       "      <td>148475</td>\n",
       "      <td>148472</td>\n",
       "      <td>116120</td>\n",
       "    </tr>\n",
       "    <tr>\n",
       "      <th>unique</th>\n",
       "      <td>148475</td>\n",
       "      <td>2763</td>\n",
       "      <td>355</td>\n",
       "      <td>148475</td>\n",
       "      <td>148475</td>\n",
       "      <td>167</td>\n",
       "      <td>112816</td>\n",
       "      <td>2672</td>\n",
       "    </tr>\n",
       "    <tr>\n",
       "      <th>top</th>\n",
       "      <td>57726f58edc2cb3880ba7563</td>\n",
       "      <td>vincent van gogh</td>\n",
       "      <td>portrait</td>\n",
       "      <td>https://uploads4.wikiart.org/images/paul-cezan...</td>\n",
       "      <td>[{'sizekb': 4, 'width': 210, 'height': 163, 'u...</td>\n",
       "      <td>impressionism</td>\n",
       "      <td>untitled</td>\n",
       "      <td>1910</td>\n",
       "    </tr>\n",
       "    <tr>\n",
       "      <th>freq</th>\n",
       "      <td>1</td>\n",
       "      <td>1927</td>\n",
       "      <td>21291</td>\n",
       "      <td>1</td>\n",
       "      <td>1</td>\n",
       "      <td>14978</td>\n",
       "      <td>4349</td>\n",
       "      <td>1277</td>\n",
       "    </tr>\n",
       "  </tbody>\n",
       "</table>\n",
       "</div>"
      ],
      "text/plain": [
       "                             _id        artistname     genre  \\\n",
       "count                     148475            148475    147296   \n",
       "unique                    148475              2763       355   \n",
       "top     57726f58edc2cb3880ba7563  vincent van gogh  portrait   \n",
       "freq                           1              1927     21291   \n",
       "\n",
       "                                                    image  \\\n",
       "count                                              148475   \n",
       "unique                                             148475   \n",
       "top     https://uploads4.wikiart.org/images/paul-cezan...   \n",
       "freq                                                    1   \n",
       "\n",
       "                                          image_size_data          style  \\\n",
       "count                                              148475         148475   \n",
       "unique                                             148475            167   \n",
       "top     [{'sizekb': 4, 'width': 210, 'height': 163, 'u...  impressionism   \n",
       "freq                                                    1          14978   \n",
       "\n",
       "           title    year  \n",
       "count     148472  116120  \n",
       "unique    112816    2672  \n",
       "top     untitled    1910  \n",
       "freq        4349    1277  "
      ]
     },
     "execution_count": 6,
     "metadata": {},
     "output_type": "execute_result"
    }
   ],
   "source": [
    "df.describe()"
   ]
  },
  {
   "cell_type": "code",
   "execution_count": 7,
   "metadata": {},
   "outputs": [
    {
     "data": {
      "text/plain": [
       "count      167.000000\n",
       "mean       889.071856\n",
       "std       2220.387477\n",
       "min          1.000000\n",
       "25%         44.500000\n",
       "50%        176.000000\n",
       "75%        471.000000\n",
       "max      14978.000000\n",
       "Name: style, dtype: float64"
      ]
     },
     "execution_count": 7,
     "metadata": {},
     "output_type": "execute_result"
    }
   ],
   "source": [
    "df[\"style\"].value_counts().describe()"
   ]
  },
  {
   "cell_type": "markdown",
   "metadata": {
    "hide_input": true
   },
   "source": [
    "## Classes"
   ]
  },
  {
   "cell_type": "markdown",
   "metadata": {},
   "source": [
    "Decide here what feature we want to predict, and save in the `classes` set all the possible values: they are the values that appear at least once in the database."
   ]
  },
  {
   "cell_type": "markdown",
   "metadata": {},
   "source": [
    "Some of the labels are composite: there are subclasses. During the training for simplicity we dropped the lower level specifications and just kept the top level tags. For example \"cubism,precisionism\" will be simply classified as \"cubism\"."
   ]
  },
  {
   "cell_type": "markdown",
   "metadata": {},
   "source": [
    "Let's load the dictionary containing the classes we used during training:"
   ]
  },
  {
   "cell_type": "code",
   "execution_count": 8,
   "metadata": {},
   "outputs": [],
   "source": [
    "with open('../data/classes.pkl', 'rb') as f:\n",
    "    class_indices = pickle.load(f)"
   ]
  },
  {
   "cell_type": "markdown",
   "metadata": {},
   "source": [
    "It's also useful to have a map from class number to class names"
   ]
  },
  {
   "cell_type": "code",
   "execution_count": 9,
   "metadata": {},
   "outputs": [],
   "source": [
    "ind_class = {v: k for k, v in class_indices.items()}"
   ]
  },
  {
   "cell_type": "markdown",
   "metadata": {},
   "source": [
    "A few examples of the kind of classes we will predict:"
   ]
  },
  {
   "cell_type": "code",
   "execution_count": 10,
   "metadata": {},
   "outputs": [
    {
     "data": {
      "text/plain": [
       "['sketch and study',\n",
       " 'miniature',\n",
       " 'installation',\n",
       " 'performance',\n",
       " 'literary painting',\n",
       " 'advertisement',\n",
       " 'cloudscape',\n",
       " 'mythological painting',\n",
       " 'vanitas',\n",
       " 'design']"
      ]
     },
     "execution_count": 10,
     "metadata": {},
     "output_type": "execute_result"
    }
   ],
   "source": [
    "classes = list(class_indices.keys())\n",
    "classes[:10]"
   ]
  },
  {
   "cell_type": "markdown",
   "metadata": {},
   "source": [
    "## Image Size"
   ]
  },
  {
   "cell_type": "markdown",
   "metadata": {},
   "source": [
    "The images will be scaled down to this size"
   ]
  },
  {
   "cell_type": "code",
   "execution_count": 11,
   "metadata": {},
   "outputs": [],
   "source": [
    "img_size = (256,256)"
   ]
  },
  {
   "cell_type": "markdown",
   "metadata": {},
   "source": [
    "## Create data generators"
   ]
  },
  {
   "cell_type": "code",
   "execution_count": 12,
   "metadata": {},
   "outputs": [],
   "source": [
    "datagen = ImageDataGenerator(rescale=1/255)"
   ]
  },
  {
   "cell_type": "code",
   "execution_count": 13,
   "metadata": {},
   "outputs": [
    {
     "name": "stdout",
     "output_type": "stream",
     "text": [
      "Found 148475 images belonging to 167 classes.\n"
     ]
    }
   ],
   "source": [
    "test_generator = datagen.flow_from_dataframe(\n",
    "                                df,\n",
    "                                directory=\"../data/images/\",\n",
    "                                x_col=\"_id\",\n",
    "                                has_ext=False,\n",
    "                                target_size=img_size,\n",
    "                                y_col=feature,\n",
    "                                batch_size=1) \n",
    "# ,\n",
    "#                                 classes = classes)"
   ]
  },
  {
   "cell_type": "code",
   "execution_count": 14,
   "metadata": {},
   "outputs": [],
   "source": [
    "test_ind_class = {v: k for k, v in test_generator.class_indices.items()}"
   ]
  },
  {
   "cell_type": "markdown",
   "metadata": {},
   "source": [
    "# Load Model "
   ]
  },
  {
   "cell_type": "code",
   "execution_count": 15,
   "metadata": {},
   "outputs": [
    {
     "name": "stderr",
     "output_type": "stream",
     "text": [
      "/home/ksrnk/opt/anaconda3/envs/science/lib/python3.6/site-packages/keras/engine/saving.py:327: UserWarning: Error in loading the saved optimizer state. As a result, your model is starting with a freshly initialized optimizer.\n",
      "  warnings.warn('Error in loading the saved optimizer '\n"
     ]
    }
   ],
   "source": [
    "model = load_model('../data/model.h5')"
   ]
  },
  {
   "cell_type": "markdown",
   "metadata": {},
   "source": [
    "# Evaluate\n",
    "\n",
    "This returns the loss and accuracy"
   ]
  },
  {
   "cell_type": "code",
   "execution_count": 35,
   "metadata": {},
   "outputs": [
    {
     "data": {
      "image/png": "[encoded data removed]",
      "text/plain": [
       "<Figure size 432x288 with 1 Axes>"
      ]
     },
     "metadata": {
      "needs_background": "light"
     },
     "output_type": "display_data"
    }
   ],
   "source": [
    "test_img = test_generator.next()\n",
    "\n",
    "plt.imshow(test_img[0][0]);plt.axis('off');"
   ]
  },
  {
   "cell_type": "markdown",
   "metadata": {},
   "source": [
    "The true label is"
   ]
  },
  {
   "cell_type": "code",
   "execution_count": 36,
   "metadata": {},
   "outputs": [
    {
     "data": {
      "text/plain": [
       "'rococo'"
      ]
     },
     "execution_count": 36,
     "metadata": {},
     "output_type": "execute_result"
    }
   ],
   "source": [
    "test_ind_class[np.argmax(test_img[1])]"
   ]
  },
  {
   "cell_type": "code",
   "execution_count": 37,
   "metadata": {},
   "outputs": [],
   "source": [
    "pred = model.predict(test_img[0])[0]"
   ]
  },
  {
   "cell_type": "code",
   "execution_count": 38,
   "metadata": {},
   "outputs": [],
   "source": [
    "top5 = np.argsort(pred)[:-6:-1]"
   ]
  },
  {
   "cell_type": "code",
   "execution_count": 39,
   "metadata": {},
   "outputs": [
    {
     "data": {
      "text/plain": [
       "array([9.3123192e-01, 5.7745483e-02, 6.8284478e-03, 1.8787278e-03,\n",
       "       9.0220693e-04], dtype=float32)"
      ]
     },
     "execution_count": 39,
     "metadata": {},
     "output_type": "execute_result"
    }
   ],
   "source": [
    "pred[top5]"
   ]
  },
  {
   "cell_type": "markdown",
   "metadata": {},
   "source": [
    "Let's print the top five predictions for this image"
   ]
  },
  {
   "cell_type": "code",
   "execution_count": 40,
   "metadata": {},
   "outputs": [
    {
     "name": "stdout",
     "output_type": "stream",
     "text": [
      "portrait\n",
      "self-portrait\n",
      "religious painting\n",
      "literary painting\n",
      "genre painting\n"
     ]
    }
   ],
   "source": [
    "for p in top5:\n",
    "    print(ind_class[p])"
   ]
  },
  {
   "cell_type": "code",
   "execution_count": null,
   "metadata": {},
   "outputs": [],
   "source": []
  },
  {
   "cell_type": "code",
   "execution_count": null,
   "metadata": {},
   "outputs": [],
   "source": []
  }
 ],
 "metadata": {
  "kernelspec": {
   "display_name": "science",
   "language": "python",
   "name": "science"
  },
  "language_info": {
   "codemirror_mode": {
    "name": "ipython",
    "version": 3
   },
   "file_extension": ".py",
   "mimetype": "text/x-python",
   "name": "python",
   "nbconvert_exporter": "python",
   "pygments_lexer": "ipython3",
   "version": "3.6.7"
  },
  "toc": {
   "base_numbering": 1,
   "nav_menu": {},
   "number_sections": true,
   "sideBar": true,
   "skip_h1_title": false,
   "title_cell": "Table of Contents",
   "title_sidebar": "Contents",
   "toc_cell": false,
   "toc_position": {},
   "toc_section_display": true,
   "toc_window_display": false
  },
  "varInspector": {
   "cols": {
    "lenName": 16,
    "lenType": 16,
    "lenVar": 40
   },
   "kernels_config": {
    "python": {
     "delete_cmd_postfix": "",
     "delete_cmd_prefix": "del ",
     "library": "var_list.py",
     "varRefreshCmd": "print(var_dic_list())"
    },
    "r": {
     "delete_cmd_postfix": ") ",
     "delete_cmd_prefix": "rm(",
     "library": "var_list.r",
     "varRefreshCmd": "cat(var_dic_list()) "
    }
   },
   "types_to_exclude": [
    "module",
    "function",
    "builtin_function_or_method",
    "instance",
    "_Feature"
   ],
   "window_display": false
  }
 },
 "nbformat": 4,
 "nbformat_minor": 2
}
