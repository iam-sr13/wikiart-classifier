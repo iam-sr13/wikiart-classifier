{
 "cells": [
  {
   "cell_type": "markdown",
   "metadata": {},
   "source": [
    "# Classification using Keras"
   ]
  },
  {
   "cell_type": "markdown",
   "metadata": {},
   "source": [
    "The target values must be in a column of the dataframe, and must be a numerical datatype, so we must convert them before training.\n",
    "\n",
    "IMPORTANT: Notice that we are importing `ImageDataGenerator` from `keras_preprocessing` instead of `keras.preprocessing`, because the people at Keras are a bunch of old reactionary dinosaurs.\n",
    "\n",
    "See the discussion [here](https://medium.com/@vijayabhaskar96/tutorial-on-keras-imagedatagenerator-with-flow-from-dataframe-8bd5776e45c1), and [here](https://medium.com/@vijayabhaskar96/tutorial-on-keras-imagedatagenerator-with-flow-from-dataframe-8bd5776e45c1)."
   ]
  },
  {
   "cell_type": "code",
   "execution_count": 1,
   "metadata": {
    "cell_style": "center",
    "scrolled": true
   },
   "outputs": [
    {
     "name": "stderr",
     "output_type": "stream",
     "text": [
      "Using TensorFlow backend.\n"
     ]
    }
   ],
   "source": [
    "from keras.models import Sequential\n",
    "from keras_preprocessing.image import ImageDataGenerator\n",
    "from keras.layers import Dense, Activation, Flatten, Dropout, BatchNormalization\n",
    "from keras.layers import Conv2D, MaxPooling2D\n",
    "from keras import regularizers, optimizers\n",
    "from sklearn.model_selection import train_test_split\n",
    "\n",
    "import pandas as pd\n",
    "import numpy as np"
   ]
  },
  {
   "cell_type": "markdown",
   "metadata": {},
   "source": [
    "## Load data and preparation"
   ]
  },
  {
   "cell_type": "markdown",
   "metadata": {},
   "source": [
    "The csv files `db.csv` contains all the metadata we have extracted from wikiart: every entry corresponds to an artwork, and the `_id` column contains the filename of the image in the `data/images/` directory associated to that artwork."
   ]
  },
  {
   "cell_type": "code",
   "execution_count": 2,
   "metadata": {
    "cell_style": "center"
   },
   "outputs": [],
   "source": [
    "nrows = 5000\n",
    "df = pd.read_csv(\"../data/db.csv\",nrows=nrows,na_values=\"?\")"
   ]
  },
  {
   "cell_type": "markdown",
   "metadata": {},
   "source": [
    "Train/test split the database:"
   ]
  },
  {
   "cell_type": "code",
   "execution_count": 3,
   "metadata": {},
   "outputs": [],
   "source": [
    "df_train, df_test = train_test_split(df, \n",
    "                                     test_size=0.1,\n",
    "                                     shuffle=True)"
   ]
  },
  {
   "cell_type": "code",
   "execution_count": 4,
   "metadata": {
    "scrolled": false
   },
   "outputs": [
    {
     "data": {
      "text/html": [
       "<div>\n",
       "<style scoped>\n",
       "    .dataframe tbody tr th:only-of-type {\n",
       "        vertical-align: middle;\n",
       "    }\n",
       "\n",
       "    .dataframe tbody tr th {\n",
       "        vertical-align: top;\n",
       "    }\n",
       "\n",
       "    .dataframe thead th {\n",
       "        text-align: right;\n",
       "    }\n",
       "</style>\n",
       "<table border=\"1\" class=\"dataframe\">\n",
       "  <thead>\n",
       "    <tr style=\"text-align: right;\">\n",
       "      <th></th>\n",
       "      <th>_id</th>\n",
       "      <th>artistname</th>\n",
       "      <th>genre</th>\n",
       "      <th>image</th>\n",
       "      <th>image_size_data</th>\n",
       "      <th>style</th>\n",
       "      <th>title</th>\n",
       "      <th>year</th>\n",
       "    </tr>\n",
       "  </thead>\n",
       "  <tbody>\n",
       "    <tr>\n",
       "      <th>1925</th>\n",
       "      <td>57728668edc2cb3880042974</td>\n",
       "      <td>angel planells</td>\n",
       "      <td>symbolic painting</td>\n",
       "      <td>https://uploads5.wikiart.org/images/angel-plan...</td>\n",
       "      <td>[{'sizekb': 11, 'width': 210, 'height': 258, '...</td>\n",
       "      <td>surrealism</td>\n",
       "      <td>l&amp;#180;hora de m&amp;#233;s quietut</td>\n",
       "      <td>1985</td>\n",
       "    </tr>\n",
       "    <tr>\n",
       "      <th>4772</th>\n",
       "      <td>5772882bedc2cb38800971d5</td>\n",
       "      <td>lee quinones</td>\n",
       "      <td>graffiti</td>\n",
       "      <td>https://uploads0.wikiart.org/images/lee-quinon...</td>\n",
       "      <td>[{'sizekb': 7, 'width': 210, 'height': 126, 'u...</td>\n",
       "      <td>street art</td>\n",
       "      <td>hell express</td>\n",
       "      <td>1979</td>\n",
       "    </tr>\n",
       "    <tr>\n",
       "      <th>590</th>\n",
       "      <td>57727b45edc2cb3880e1060f</td>\n",
       "      <td>giovanni battista piranesi</td>\n",
       "      <td>cityscape</td>\n",
       "      <td>https://uploads5.wikiart.org/images/giovanni-b...</td>\n",
       "      <td>[{'sizekb': 9, 'width': 210, 'height': 155, 'u...</td>\n",
       "      <td>neoclassicism</td>\n",
       "      <td>vedute di roma</td>\n",
       "      <td>NaN</td>\n",
       "    </tr>\n",
       "    <tr>\n",
       "      <th>3435</th>\n",
       "      <td>5772884eedc2cb388009fd6c</td>\n",
       "      <td>jorge prado</td>\n",
       "      <td>design</td>\n",
       "      <td>https://uploads0.wikiart.org/images/jorge-prad...</td>\n",
       "      <td>[{'sizekb': 5, 'width': 210, 'height': 158, 'u...</td>\n",
       "      <td>post-minimalism</td>\n",
       "      <td>untitled (wine credenza)</td>\n",
       "      <td>2007</td>\n",
       "    </tr>\n",
       "    <tr>\n",
       "      <th>2124</th>\n",
       "      <td>57727ac2edc2cb3880dfa59f</td>\n",
       "      <td>albert bierstadt</td>\n",
       "      <td>landscape</td>\n",
       "      <td>https://uploads0.wikiart.org/images/albert-bie...</td>\n",
       "      <td>[{'sizekb': 8, 'width': 210, 'height': 143, 'u...</td>\n",
       "      <td>luminism</td>\n",
       "      <td>mountain lake</td>\n",
       "      <td>1863</td>\n",
       "    </tr>\n",
       "  </tbody>\n",
       "</table>\n",
       "</div>"
      ],
      "text/plain": [
       "                           _id                  artistname              genre  \\\n",
       "1925  57728668edc2cb3880042974              angel planells  symbolic painting   \n",
       "4772  5772882bedc2cb38800971d5                lee quinones           graffiti   \n",
       "590   57727b45edc2cb3880e1060f  giovanni battista piranesi          cityscape   \n",
       "3435  5772884eedc2cb388009fd6c                 jorge prado             design   \n",
       "2124  57727ac2edc2cb3880dfa59f            albert bierstadt          landscape   \n",
       "\n",
       "                                                  image  \\\n",
       "1925  https://uploads5.wikiart.org/images/angel-plan...   \n",
       "4772  https://uploads0.wikiart.org/images/lee-quinon...   \n",
       "590   https://uploads5.wikiart.org/images/giovanni-b...   \n",
       "3435  https://uploads0.wikiart.org/images/jorge-prad...   \n",
       "2124  https://uploads0.wikiart.org/images/albert-bie...   \n",
       "\n",
       "                                        image_size_data            style  \\\n",
       "1925  [{'sizekb': 11, 'width': 210, 'height': 258, '...       surrealism   \n",
       "4772  [{'sizekb': 7, 'width': 210, 'height': 126, 'u...       street art   \n",
       "590   [{'sizekb': 9, 'width': 210, 'height': 155, 'u...    neoclassicism   \n",
       "3435  [{'sizekb': 5, 'width': 210, 'height': 158, 'u...  post-minimalism   \n",
       "2124  [{'sizekb': 8, 'width': 210, 'height': 143, 'u...         luminism   \n",
       "\n",
       "                                title  year  \n",
       "1925  l&#180;hora de m&#233;s quietut  1985  \n",
       "4772                     hell express  1979  \n",
       "590                    vedute di roma   NaN  \n",
       "3435         untitled (wine credenza)  2007  \n",
       "2124                    mountain lake  1863  "
      ]
     },
     "execution_count": 4,
     "metadata": {},
     "output_type": "execute_result"
    }
   ],
   "source": [
    "df_train.head()"
   ]
  },
  {
   "cell_type": "markdown",
   "metadata": {},
   "source": [
    "Let's initialize a dataimage generator: it is a nice interface towards many (pre)processing method in Keras, including some utilities for data augmentation."
   ]
  },
  {
   "cell_type": "markdown",
   "metadata": {},
   "source": [
    "We will use the amazing `flow_from_dataframe` function to serve the data we need.\n",
    "\n",
    "If the files do not have an extension, run this in a shell:\n",
    "\n",
    "    $ for f in *; do mv \"$f\" \"$f.jpg\"; done"
   ]
  },
  {
   "cell_type": "markdown",
   "metadata": {},
   "source": [
    "### Classes"
   ]
  },
  {
   "cell_type": "markdown",
   "metadata": {},
   "source": [
    "Decide here what feature we want to predict, and save in the `classes` set all the possible values: they are the values that appear at least once in the database."
   ]
  },
  {
   "cell_type": "code",
   "execution_count": 5,
   "metadata": {},
   "outputs": [
    {
     "name": "stdout",
     "output_type": "stream",
     "text": [
      "80\n"
     ]
    }
   ],
   "source": [
    "feature = \"style\"\n",
    "classes=set(df[feature])\n",
    "nclass = len(classes)\n",
    "print(len(classes))"
   ]
  },
  {
   "cell_type": "code",
   "execution_count": 6,
   "metadata": {},
   "outputs": [
    {
     "name": "stdout",
     "output_type": "stream",
     "text": [
      "nan\n",
      "cubism,futurism\n",
      "minimalism\n",
      "impressionism,realism\n",
      "naïve art (primitivism),post-impressionism\n",
      "classicism\n",
      "dada\n",
      "tenebrism\n",
      "rococo\n",
      "environmental (land) art\n"
     ]
    }
   ],
   "source": [
    "classes_list= list(classes)\n",
    "for i in range(10):\n",
    "    print(classes_list[i])\n",
    "    \n",
    "#I can write a loop to access classes which are reptitive"
   ]
  },
  {
   "cell_type": "markdown",
   "metadata": {},
   "source": [
    "The number of classes will be needed later, the NN must know what's the output dimension."
   ]
  },
  {
   "cell_type": "markdown",
   "metadata": {},
   "source": [
    "### Image Size"
   ]
  },
  {
   "cell_type": "markdown",
   "metadata": {},
   "source": [
    "The images will be scaled down to this size"
   ]
  },
  {
   "cell_type": "code",
   "execution_count": 7,
   "metadata": {},
   "outputs": [],
   "source": [
    "img_size = (32,32)"
   ]
  },
  {
   "cell_type": "markdown",
   "metadata": {},
   "source": [
    "## Create data generators"
   ]
  },
  {
   "cell_type": "code",
   "execution_count": 8,
   "metadata": {},
   "outputs": [],
   "source": [
    "datagen = ImageDataGenerator(rescale=1/255,validation_split=0.2)\n",
    "#As of now, we are not doing cross-validation. Maybe we should do that.\n",
    "#Also, we should use data-augmentation here"
   ]
  },
  {
   "cell_type": "code",
   "execution_count": 9,
   "metadata": {},
   "outputs": [
    {
     "name": "stdout",
     "output_type": "stream",
     "text": [
      "Found 4500 images belonging to 80 classes.\n"
     ]
    }
   ],
   "source": [
    "train_generator = datagen.flow_from_dataframe(\n",
    "                                df_train,\n",
    "                                directory=\"../data/images/\",\n",
    "                                x_col=\"_id\",\n",
    "                                has_ext=False,\n",
    "                                target_size=img_size,\n",
    "                                y_col=feature,\n",
    "                                batch_size=32,\n",
    "                                classes = classes_list)"
   ]
  },
  {
   "cell_type": "markdown",
   "metadata": {},
   "source": [
    "# Model Architecture"
   ]
  },
  {
   "cell_type": "markdown",
   "metadata": {},
   "source": [
    "## CNN with no transfer learning"
   ]
  },
  {
   "cell_type": "markdown",
   "metadata": {},
   "source": [
    "We'll start with the most basic architecture imaginable. \n",
    "\n",
    "It would be nice to use transfer learning."
   ]
  },
  {
   "cell_type": "code",
   "execution_count": 10,
   "metadata": {},
   "outputs": [],
   "source": [
    "model = Sequential()\n",
    "model.add(Conv2D(32, (3, 3), padding='same', input_shape=(*img_size,3)))\n",
    "model.add(Activation('relu'))\n",
    "model.add(Conv2D(32, (3, 3)))\n",
    "model.add(Activation('relu'))\n",
    "model.add(MaxPooling2D(pool_size=(2, 2)))\n",
    "model.add(Dropout(0.25))\n",
    "model.add(Conv2D(64, (3, 3), padding='same'))\n",
    "model.add(Activation('relu'))\n",
    "model.add(Conv2D(64, (3, 3)))\n",
    "model.add(Activation('relu'))\n",
    "model.add(MaxPooling2D(pool_size=(2, 2)))\n",
    "model.add(Dropout(0.25))\n",
    "model.add(Flatten())\n",
    "model.add(Dense(512))\n",
    "model.add(Activation('relu'))\n",
    "model.add(Dropout(0.5))\n",
    "model.add(Dense(nclass, activation='softmax'))\n"
   ]
  },
  {
   "cell_type": "markdown",
   "metadata": {},
   "source": [
    "## Transfer learning"
   ]
  },
  {
   "cell_type": "code",
   "execution_count": 12,
   "metadata": {},
   "outputs": [
    {
     "ename": "NameError",
     "evalue": "name 'ResNet50' is not defined",
     "output_type": "error",
     "traceback": [
      "\u001b[0;31m---------------------------------------------------------------------------\u001b[0m",
      "\u001b[0;31mNameError\u001b[0m                                 Traceback (most recent call last)",
      "\u001b[0;32m<ipython-input-12-1dd5e4c1ec14>\u001b[0m in \u001b[0;36m<module>\u001b[0;34m\u001b[0m\n\u001b[0;32m----> 1\u001b[0;31m \u001b[0mmodel\u001b[0m \u001b[0;34m=\u001b[0m \u001b[0mResNet50\u001b[0m\u001b[0;34m(\u001b[0m\u001b[0mweights\u001b[0m\u001b[0;34m=\u001b[0m\u001b[0;34m'imagenet'\u001b[0m\u001b[0;34m)\u001b[0m\u001b[0;34m\u001b[0m\u001b[0;34m\u001b[0m\u001b[0m\n\u001b[0m",
      "\u001b[0;31mNameError\u001b[0m: name 'ResNet50' is not defined"
     ]
    }
   ],
   "source": [
    "model = ResNet50(weights='imagenet')"
   ]
  },
  {
   "cell_type": "markdown",
   "metadata": {},
   "source": [
    "# Pick an optimizer and compile the model"
   ]
  },
  {
   "cell_type": "code",
   "execution_count": 11,
   "metadata": {},
   "outputs": [],
   "source": [
    "model.compile(optimizers.rmsprop(lr=0.0001, decay=1e-6),\n",
    "              loss=\"categorical_crossentropy\",metrics=[\"accuracy\"])"
   ]
  },
  {
   "cell_type": "code",
   "execution_count": 25,
   "metadata": {
    "scrolled": true
   },
   "outputs": [
    {
     "name": "stdout",
     "output_type": "stream",
     "text": [
      "Epoch 1/2\n",
      "141/141 [==============================] - 12s 85ms/step - loss: 3.2359 - acc: 0.2312\n",
      "Epoch 2/2\n",
      "141/141 [==============================] - 12s 88ms/step - loss: 2.7976 - acc: 0.3181\n"
     ]
    },
    {
     "data": {
      "text/plain": [
       "<keras.callbacks.History at 0x7f09dabb9278>"
      ]
     },
     "execution_count": 25,
     "metadata": {},
     "output_type": "execute_result"
    }
   ],
   "source": [
    "#training\n",
    "model.fit_generator(generator=train_generator,\n",
    "                    epochs=2)"
   ]
  },
  {
   "cell_type": "code",
   "execution_count": 21,
   "metadata": {},
   "outputs": [
    {
     "name": "stdout",
     "output_type": "stream",
     "text": [
      "Found 500 images belonging to 80 classes.\n"
     ]
    }
   ],
   "source": [
    "test_generator = datagen.flow_from_dataframe(df_test,\n",
    "                                directory=\"../data/images/\",\n",
    "                                x_col=\"_id\",has_ext=False, target_size=img_size,\n",
    "                                y_col=feature,batch_size=32, classes = classes)"
   ]
  },
  {
   "cell_type": "markdown",
   "metadata": {},
   "source": [
    "# Evaluation\n",
    "\n",
    "This returns the loss and accuracy"
   ]
  },
  {
   "cell_type": "code",
   "execution_count": 18,
   "metadata": {},
   "outputs": [
    {
     "data": {
      "text/plain": [
       "[3.1134791278839113, 0.2899999997615814]"
      ]
     },
     "execution_count": 18,
     "metadata": {},
     "output_type": "execute_result"
    }
   ],
   "source": [
    "model.evaluate_generator(generator=test_generator)"
   ]
  }
 ],
 "metadata": {
  "kernelspec": {
   "display_name": "science",
   "language": "python",
   "name": "science"
  },
  "language_info": {
   "codemirror_mode": {
    "name": "ipython",
    "version": 3
   },
   "file_extension": ".py",
   "mimetype": "text/x-python",
   "name": "python",
   "nbconvert_exporter": "python",
   "pygments_lexer": "ipython3",
   "version": "3.6.7"
  },
  "toc": {
   "base_numbering": 1,
   "nav_menu": {},
   "number_sections": true,
   "sideBar": true,
   "skip_h1_title": false,
   "title_cell": "Table of Contents",
   "title_sidebar": "Contents",
   "toc_cell": false,
   "toc_position": {},
   "toc_section_display": true,
   "toc_window_display": false
  },
  "varInspector": {
   "cols": {
    "lenName": 16,
    "lenType": 16,
    "lenVar": 40
   },
   "kernels_config": {
    "python": {
     "delete_cmd_postfix": "",
     "delete_cmd_prefix": "del ",
     "library": "var_list.py",
     "varRefreshCmd": "print(var_dic_list())"
    },
    "r": {
     "delete_cmd_postfix": ") ",
     "delete_cmd_prefix": "rm(",
     "library": "var_list.r",
     "varRefreshCmd": "cat(var_dic_list()) "
    }
   },
   "types_to_exclude": [
    "module",
    "function",
    "builtin_function_or_method",
    "instance",
    "_Feature"
   ],
   "window_display": false
  }
 },
 "nbformat": 4,
 "nbformat_minor": 2
}
