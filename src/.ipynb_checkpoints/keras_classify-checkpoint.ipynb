{
 "cells": [
  {
   "cell_type": "code",
   "execution_count": 1,
   "metadata": {},
   "outputs": [],
   "source": [
    "import numpy as np\n",
    "import pandas as pd"
   ]
  },
  {
   "cell_type": "markdown",
   "metadata": {},
   "source": [
    "# Read database from disk"
   ]
  },
  {
   "cell_type": "code",
   "execution_count": 2,
   "metadata": {},
   "outputs": [],
   "source": [
    "db_fname = \"../data/db.csv\"\n",
    "nrows = None # None to get all of them\n",
    "db = pd.read_csv(db_fname,nrows=nrows,na_values=\"?\")"
   ]
  },
  {
   "cell_type": "code",
   "execution_count": 3,
   "metadata": {},
   "outputs": [
    {
     "data": {
      "text/plain": [
       "_id                152014\n",
       "artistname         152014\n",
       "genre              149142\n",
       "image              152014\n",
       "image_size_data    152014\n",
       "style              148475\n",
       "title              152011\n",
       "year               118672\n",
       "dtype: int64"
      ]
     },
     "execution_count": 3,
     "metadata": {},
     "output_type": "execute_result"
    }
   ],
   "source": [
    "db.count()"
   ]
  },
  {
   "cell_type": "code",
   "execution_count": 4,
   "metadata": {},
   "outputs": [
    {
     "data": {
      "text/html": [
       "<div>\n",
       "<style scoped>\n",
       "    .dataframe tbody tr th:only-of-type {\n",
       "        vertical-align: middle;\n",
       "    }\n",
       "\n",
       "    .dataframe tbody tr th {\n",
       "        vertical-align: top;\n",
       "    }\n",
       "\n",
       "    .dataframe thead th {\n",
       "        text-align: right;\n",
       "    }\n",
       "</style>\n",
       "<table border=\"1\" class=\"dataframe\">\n",
       "  <thead>\n",
       "    <tr style=\"text-align: right;\">\n",
       "      <th></th>\n",
       "      <th>_id</th>\n",
       "      <th>artistname</th>\n",
       "      <th>genre</th>\n",
       "      <th>image</th>\n",
       "      <th>image_size_data</th>\n",
       "      <th>style</th>\n",
       "      <th>title</th>\n",
       "      <th>year</th>\n",
       "    </tr>\n",
       "  </thead>\n",
       "  <tbody>\n",
       "    <tr>\n",
       "      <th>0</th>\n",
       "      <td>57727b22edc2cb3880e0d820</td>\n",
       "      <td>giovanni battista piranesi</td>\n",
       "      <td>design</td>\n",
       "      <td>https://uploads1.wikiart.org/images/giovanni-b...</td>\n",
       "      <td>[{'sizekb': 13, 'width': 210, 'height': 266, '...</td>\n",
       "      <td>neoclassicism</td>\n",
       "      <td>plan, elevation and details of doric temples i...</td>\n",
       "      <td>NaN</td>\n",
       "    </tr>\n",
       "    <tr>\n",
       "      <th>1</th>\n",
       "      <td>57727b22edc2cb3880e0d830</td>\n",
       "      <td>giovanni battista piranesi</td>\n",
       "      <td>design</td>\n",
       "      <td>https://uploads0.wikiart.org/images/giovanni-b...</td>\n",
       "      <td>[{'sizekb': 8, 'width': 210, 'height': 149, 'u...</td>\n",
       "      <td>neoclassicism</td>\n",
       "      <td>plans of elevations and sections of thermopolium</td>\n",
       "      <td>NaN</td>\n",
       "    </tr>\n",
       "    <tr>\n",
       "      <th>2</th>\n",
       "      <td>57727b22edc2cb3880e0d840</td>\n",
       "      <td>giovanni battista piranesi</td>\n",
       "      <td>design</td>\n",
       "      <td>https://uploads3.wikiart.org/images/giovanni-b...</td>\n",
       "      <td>[{'sizekb': 7, 'width': 210, 'height': 148, 'u...</td>\n",
       "      <td>neoclassicism</td>\n",
       "      <td>plants related to the houses opposite to that ...</td>\n",
       "      <td>NaN</td>\n",
       "    </tr>\n",
       "    <tr>\n",
       "      <th>3</th>\n",
       "      <td>57727b22edc2cb3880e0d850</td>\n",
       "      <td>giovanni battista piranesi</td>\n",
       "      <td>sketch and study</td>\n",
       "      <td>https://uploads2.wikiart.org/images/giovanni-b...</td>\n",
       "      <td>[{'sizekb': 6, 'width': 210, 'height': 161, 'u...</td>\n",
       "      <td>neoclassicism</td>\n",
       "      <td>pluto</td>\n",
       "      <td>NaN</td>\n",
       "    </tr>\n",
       "    <tr>\n",
       "      <th>4</th>\n",
       "      <td>57727b23edc2cb3880e0d860</td>\n",
       "      <td>giovanni battista piranesi</td>\n",
       "      <td>sketch and study</td>\n",
       "      <td>https://uploads8.wikiart.org/images/giovanni-b...</td>\n",
       "      <td>[{'sizekb': 10, 'width': 210, 'height': 296, '...</td>\n",
       "      <td>neoclassicism</td>\n",
       "      <td>pluto and proserpina</td>\n",
       "      <td>NaN</td>\n",
       "    </tr>\n",
       "  </tbody>\n",
       "</table>\n",
       "</div>"
      ],
      "text/plain": [
       "                        _id                  artistname             genre  \\\n",
       "0  57727b22edc2cb3880e0d820  giovanni battista piranesi            design   \n",
       "1  57727b22edc2cb3880e0d830  giovanni battista piranesi            design   \n",
       "2  57727b22edc2cb3880e0d840  giovanni battista piranesi            design   \n",
       "3  57727b22edc2cb3880e0d850  giovanni battista piranesi  sketch and study   \n",
       "4  57727b23edc2cb3880e0d860  giovanni battista piranesi  sketch and study   \n",
       "\n",
       "                                               image  \\\n",
       "0  https://uploads1.wikiart.org/images/giovanni-b...   \n",
       "1  https://uploads0.wikiart.org/images/giovanni-b...   \n",
       "2  https://uploads3.wikiart.org/images/giovanni-b...   \n",
       "3  https://uploads2.wikiart.org/images/giovanni-b...   \n",
       "4  https://uploads8.wikiart.org/images/giovanni-b...   \n",
       "\n",
       "                                     image_size_data          style  \\\n",
       "0  [{'sizekb': 13, 'width': 210, 'height': 266, '...  neoclassicism   \n",
       "1  [{'sizekb': 8, 'width': 210, 'height': 149, 'u...  neoclassicism   \n",
       "2  [{'sizekb': 7, 'width': 210, 'height': 148, 'u...  neoclassicism   \n",
       "3  [{'sizekb': 6, 'width': 210, 'height': 161, 'u...  neoclassicism   \n",
       "4  [{'sizekb': 10, 'width': 210, 'height': 296, '...  neoclassicism   \n",
       "\n",
       "                                               title year  \n",
       "0  plan, elevation and details of doric temples i...  NaN  \n",
       "1   plans of elevations and sections of thermopolium  NaN  \n",
       "2  plants related to the houses opposite to that ...  NaN  \n",
       "3                                              pluto  NaN  \n",
       "4                               pluto and proserpina  NaN  "
      ]
     },
     "execution_count": 4,
     "metadata": {},
     "output_type": "execute_result"
    }
   ],
   "source": [
    "db.head()"
   ]
  },
  {
   "cell_type": "markdown",
   "metadata": {},
   "source": [
    "The `image_size_data` column need some preprocessing: in the raw csv file every entry is a string representation of a list, so not easy to manipulate. Let's parse it and convert it into a dictionary:"
   ]
  },
  {
   "cell_type": "code",
   "execution_count": 5,
   "metadata": {},
   "outputs": [],
   "source": [
    "from ast import literal_eval"
   ]
  },
  {
   "cell_type": "code",
   "execution_count": 6,
   "metadata": {},
   "outputs": [],
   "source": [
    "def parse_size_data(s):\n",
    "    \"\"\"Takes a string like the ones in image_size_data \n",
    "    column and parse it into a dictionary.\"\"\"\n",
    "    return {el.pop(\"name\"):el for el in literal_eval(s)}"
   ]
  },
  {
   "cell_type": "code",
   "execution_count": 7,
   "metadata": {},
   "outputs": [],
   "source": [
    "db[\"size_data\"] = db[\"image_size_data\"].map(parse_size_data)"
   ]
  },
  {
   "cell_type": "markdown",
   "metadata": {},
   "source": [
    "So now we have a `size_data` column with a sensible data structure. For example, to see all the available sizes for a given artwork, you just have to look at the keys:"
   ]
  },
  {
   "cell_type": "code",
   "execution_count": 8,
   "metadata": {},
   "outputs": [
    {
     "data": {
      "text/plain": [
       "dict_keys(['pinterestsmall', 'pinterestlarge', 'portrait', 'blog', 'large', 'halfhd', 'hd', 'original'])"
      ]
     },
     "execution_count": 8,
     "metadata": {},
     "output_type": "execute_result"
    }
   ],
   "source": [
    "db[\"size_data\"][0].keys()"
   ]
  },
  {
   "cell_type": "markdown",
   "metadata": {},
   "source": [
    "# Database size estimate"
   ]
  },
  {
   "cell_type": "markdown",
   "metadata": {},
   "source": [
    "The `size_data` columns contains information about all the available versions of any given file, so we can use it to esimate how large the database would be if we decided to download all of them."
   ]
  },
  {
   "cell_type": "code",
   "execution_count": 9,
   "metadata": {},
   "outputs": [
    {
     "data": {
      "text/plain": [
       "0    {'pinterestsmall': {'sizekb': 13, 'width': 210...\n",
       "1    {'pinterestsmall': {'sizekb': 8, 'width': 210,...\n",
       "2    {'pinterestsmall': {'sizekb': 7, 'width': 210,...\n",
       "3    {'pinterestsmall': {'sizekb': 6, 'width': 210,...\n",
       "4    {'pinterestsmall': {'sizekb': 10, 'width': 210...\n",
       "Name: size_data, dtype: object"
      ]
     },
     "execution_count": 9,
     "metadata": {},
     "output_type": "execute_result"
    }
   ],
   "source": [
    "db[\"size_data\"].head()"
   ]
  },
  {
   "cell_type": "markdown",
   "metadata": {},
   "source": [
    "We create a table with the size in kb of all available images, so that the sum of each column is an estimate of how much diskspace we need if we download that image size"
   ]
  },
  {
   "cell_type": "code",
   "execution_count": 11,
   "metadata": {},
   "outputs": [],
   "source": [
    "slist = [{size:d[size][\"sizekb\"] for size in d} for d in db[\"size_data\"]]\n",
    "sizes = pd.DataFrame(columns=db[\"size_data\"][0].keys(),data=slist)"
   ]
  },
  {
   "cell_type": "code",
   "execution_count": 16,
   "metadata": {},
   "outputs": [
    {
     "data": {
      "text/html": [
       "<div>\n",
       "<style scoped>\n",
       "    .dataframe tbody tr th:only-of-type {\n",
       "        vertical-align: middle;\n",
       "    }\n",
       "\n",
       "    .dataframe tbody tr th {\n",
       "        vertical-align: top;\n",
       "    }\n",
       "\n",
       "    .dataframe thead th {\n",
       "        text-align: right;\n",
       "    }\n",
       "</style>\n",
       "<table border=\"1\" class=\"dataframe\">\n",
       "  <thead>\n",
       "    <tr style=\"text-align: right;\">\n",
       "      <th></th>\n",
       "      <th>pinterestsmall</th>\n",
       "      <th>pinterestlarge</th>\n",
       "      <th>portrait</th>\n",
       "      <th>blog</th>\n",
       "      <th>large</th>\n",
       "      <th>halfhd</th>\n",
       "      <th>hd</th>\n",
       "      <th>original</th>\n",
       "    </tr>\n",
       "  </thead>\n",
       "  <tbody>\n",
       "    <tr>\n",
       "      <th>count</th>\n",
       "      <td>152014.000000</td>\n",
       "      <td>152014.000000</td>\n",
       "      <td>149943.000000</td>\n",
       "      <td>137759.00000</td>\n",
       "      <td>111673.000000</td>\n",
       "      <td>72022.000000</td>\n",
       "      <td>29415.00000</td>\n",
       "      <td>152014.000000</td>\n",
       "    </tr>\n",
       "    <tr>\n",
       "      <th>mean</th>\n",
       "      <td>10.328062</td>\n",
       "      <td>17.017702</td>\n",
       "      <td>23.260759</td>\n",
       "      <td>35.34638</td>\n",
       "      <td>60.607774</td>\n",
       "      <td>109.214157</td>\n",
       "      <td>222.06840</td>\n",
       "      <td>384.345179</td>\n",
       "    </tr>\n",
       "    <tr>\n",
       "      <th>std</th>\n",
       "      <td>6.630793</td>\n",
       "      <td>11.447309</td>\n",
       "      <td>14.369315</td>\n",
       "      <td>21.72622</td>\n",
       "      <td>39.831075</td>\n",
       "      <td>76.549911</td>\n",
       "      <td>147.65305</td>\n",
       "      <td>929.690996</td>\n",
       "    </tr>\n",
       "    <tr>\n",
       "      <th>min</th>\n",
       "      <td>0.000000</td>\n",
       "      <td>0.000000</td>\n",
       "      <td>0.000000</td>\n",
       "      <td>0.00000</td>\n",
       "      <td>0.000000</td>\n",
       "      <td>0.000000</td>\n",
       "      <td>0.00000</td>\n",
       "      <td>0.000000</td>\n",
       "    </tr>\n",
       "    <tr>\n",
       "      <th>25%</th>\n",
       "      <td>7.000000</td>\n",
       "      <td>11.000000</td>\n",
       "      <td>17.000000</td>\n",
       "      <td>25.00000</td>\n",
       "      <td>40.000000</td>\n",
       "      <td>68.000000</td>\n",
       "      <td>139.00000</td>\n",
       "      <td>76.000000</td>\n",
       "    </tr>\n",
       "    <tr>\n",
       "      <th>50%</th>\n",
       "      <td>9.000000</td>\n",
       "      <td>15.000000</td>\n",
       "      <td>22.000000</td>\n",
       "      <td>33.00000</td>\n",
       "      <td>55.000000</td>\n",
       "      <td>96.000000</td>\n",
       "      <td>194.00000</td>\n",
       "      <td>149.000000</td>\n",
       "    </tr>\n",
       "    <tr>\n",
       "      <th>75%</th>\n",
       "      <td>13.000000</td>\n",
       "      <td>21.000000</td>\n",
       "      <td>28.000000</td>\n",
       "      <td>43.00000</td>\n",
       "      <td>75.000000</td>\n",
       "      <td>137.000000</td>\n",
       "      <td>276.00000</td>\n",
       "      <td>314.000000</td>\n",
       "    </tr>\n",
       "    <tr>\n",
       "      <th>max</th>\n",
       "      <td>365.000000</td>\n",
       "      <td>641.000000</td>\n",
       "      <td>438.000000</td>\n",
       "      <td>670.00000</td>\n",
       "      <td>1355.000000</td>\n",
       "      <td>2680.000000</td>\n",
       "      <td>5761.00000</td>\n",
       "      <td>31682.000000</td>\n",
       "    </tr>\n",
       "  </tbody>\n",
       "</table>\n",
       "</div>"
      ],
      "text/plain": [
       "       pinterestsmall  pinterestlarge       portrait          blog  \\\n",
       "count   152014.000000   152014.000000  149943.000000  137759.00000   \n",
       "mean        10.328062       17.017702      23.260759      35.34638   \n",
       "std          6.630793       11.447309      14.369315      21.72622   \n",
       "min          0.000000        0.000000       0.000000       0.00000   \n",
       "25%          7.000000       11.000000      17.000000      25.00000   \n",
       "50%          9.000000       15.000000      22.000000      33.00000   \n",
       "75%         13.000000       21.000000      28.000000      43.00000   \n",
       "max        365.000000      641.000000     438.000000     670.00000   \n",
       "\n",
       "               large        halfhd           hd       original  \n",
       "count  111673.000000  72022.000000  29415.00000  152014.000000  \n",
       "mean       60.607774    109.214157    222.06840     384.345179  \n",
       "std        39.831075     76.549911    147.65305     929.690996  \n",
       "min         0.000000      0.000000      0.00000       0.000000  \n",
       "25%        40.000000     68.000000    139.00000      76.000000  \n",
       "50%        55.000000     96.000000    194.00000     149.000000  \n",
       "75%        75.000000    137.000000    276.00000     314.000000  \n",
       "max      1355.000000   2680.000000   5761.00000   31682.000000  "
      ]
     },
     "execution_count": 16,
     "metadata": {},
     "output_type": "execute_result"
    }
   ],
   "source": [
    "sizes.describe()"
   ]
  },
  {
   "cell_type": "code",
   "execution_count": 65,
   "metadata": {},
   "outputs": [
    {
     "data": {
      "text/plain": [
       "1.4495849609375"
      ]
     },
     "execution_count": 65,
     "metadata": {},
     "output_type": "execute_result"
    }
   ],
   "source": [
    "10*152000/1024**2"
   ]
  },
  {
   "cell_type": "markdown",
   "metadata": {},
   "source": [
    "The total diskspace necessary if we download every image will be, in Gb:"
   ]
  },
  {
   "cell_type": "code",
   "execution_count": 66,
   "metadata": {},
   "outputs": [
    {
     "data": {
      "text/plain": [
       "pinterestsmall     1.497278\n",
       "pinterestlarge     2.467088\n",
       "portrait           3.326214\n",
       "blog               4.643709\n",
       "large              6.454708\n",
       "halfhd             7.501432\n",
       "hd                 6.229536\n",
       "original          55.719231\n",
       "dtype: float64"
      ]
     },
     "execution_count": 66,
     "metadata": {},
     "output_type": "execute_result"
    }
   ],
   "source": [
    "sizes.sum()/1024**2"
   ]
  },
  {
   "cell_type": "code",
   "execution_count": 34,
   "metadata": {},
   "outputs": [
    {
     "data": {
      "text/plain": [
       "{'sizekb': 64,\n",
       " 'width': 500,\n",
       " 'height': 401,\n",
       " 'url': 'https://uploads0.wikiart.org/images/ozdemir-atlan/family-tree-2000.jpg!blog.jpg'}"
      ]
     },
     "execution_count": 34,
     "metadata": {},
     "output_type": "execute_result"
    }
   ],
   "source": [
    "db.iloc[90000][\"size_data\"][\"blog\"]"
   ]
  },
  {
   "cell_type": "markdown",
   "metadata": {},
   "source": [
    "# Dowload images"
   ]
  },
  {
   "cell_type": "markdown",
   "metadata": {},
   "source": [
    "We'll download at first the smallest possible images, it's easy to replace them with a larger size if we see that the NN is not performing well.\n",
    "\n",
    "So we build a list of urls we are interested in and use `wget` to download them."
   ]
  },
  {
   "cell_type": "code",
   "execution_count": 60,
   "metadata": {},
   "outputs": [],
   "source": [
    "size = \"pinterestsmall\""
   ]
  },
  {
   "cell_type": "code",
   "execution_count": 61,
   "metadata": {},
   "outputs": [],
   "source": [
    "urls = pd.concat([db[\"_id\"],db[\"size_data\"].map(lambda d: d[size][\"url\"])],axis=1)"
   ]
  },
  {
   "cell_type": "code",
   "execution_count": 62,
   "metadata": {},
   "outputs": [],
   "source": [
    "urls.to_csv(\"img_urls.txt\",sep=\" \",header=False,index=False)"
   ]
  },
  {
   "cell_type": "markdown",
   "metadata": {},
   "source": [
    "And then we use the `download_images.sh` script to actually get them."
   ]
  },
  {
   "cell_type": "markdown",
   "metadata": {},
   "source": [
    "# Keras"
   ]
  },
  {
   "cell_type": "code",
   "execution_count": null,
   "metadata": {},
   "outputs": [],
   "source": []
  }
 ],
 "metadata": {
  "kernelspec": {
   "display_name": "science",
   "language": "python",
   "name": "science"
  },
  "language_info": {
   "codemirror_mode": {
    "name": "ipython",
    "version": 3
   },
   "file_extension": ".py",
   "mimetype": "text/x-python",
   "name": "python",
   "nbconvert_exporter": "python",
   "pygments_lexer": "ipython3",
   "version": "3.6.7"
  },
  "toc": {
   "base_numbering": 1,
   "nav_menu": {},
   "number_sections": true,
   "sideBar": true,
   "skip_h1_title": false,
   "title_cell": "Table of Contents",
   "title_sidebar": "Contents",
   "toc_cell": false,
   "toc_position": {},
   "toc_section_display": true,
   "toc_window_display": false
  },
  "varInspector": {
   "cols": {
    "lenName": 16,
    "lenType": 16,
    "lenVar": 40
   },
   "kernels_config": {
    "python": {
     "delete_cmd_postfix": "",
     "delete_cmd_prefix": "del ",
     "library": "var_list.py",
     "varRefreshCmd": "print(var_dic_list())"
    },
    "r": {
     "delete_cmd_postfix": ") ",
     "delete_cmd_prefix": "rm(",
     "library": "var_list.r",
     "varRefreshCmd": "cat(var_dic_list()) "
    }
   },
   "types_to_exclude": [
    "module",
    "function",
    "builtin_function_or_method",
    "instance",
    "_Feature"
   ],
   "window_display": false
  }
 },
 "nbformat": 4,
 "nbformat_minor": 2
}
